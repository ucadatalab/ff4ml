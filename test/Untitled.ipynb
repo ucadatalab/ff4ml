{
 "cells": [
  {
   "cell_type": "code",
   "execution_count": 43,
   "id": "68870a23",
   "metadata": {},
   "outputs": [
    {
     "name": "stdout",
     "output_type": "stream",
     "text": [
      "Fitting 2 folds for each of 1 candidates, totalling 2 fits\n",
      "[CV] C=2.352718564818733, degree=6, gamma=0.022854318128961743, kernel=linear \n",
      "[LibSVM][CV]  C=2.352718564818733, degree=6, gamma=0.022854318128961743, kernel=linear, score=0.982, total=   0.0s\n",
      "[CV] C=2.352718564818733, degree=6, gamma=0.022854318128961743, kernel=linear \n",
      "[LibSVM][CV]  C=2.352718564818733, degree=6, gamma=0.022854318128961743, kernel=linear, score=0.963, total=   0.0s\n",
      "Fitting 2 folds for each of 1 candidates, totalling 2 fits\n",
      "[CV] C=0.0012602593949011189, degree=8, gamma=2.285959941576884, kernel=linear \n",
      "[LibSVM][CV]  C=0.0012602593949011189, degree=8, gamma=2.285959941576884, kernel=linear, score=0.179, total=   0.0s\n",
      "[CV] C=0.0012602593949011189, degree=8, gamma=2.285959941576884, kernel=linear \n",
      "[LibSVM][CV]  C=0.0012602593949011189, degree=8, gamma=2.285959941576884, kernel=linear, score=0.178, total=   0.0s\n",
      "Fitting 2 folds for each of 1 candidates, totalling 2 fits\n",
      "[CV] C=2.2095350994035026, degree=1, gamma=0.0002488766453161173, kernel=linear \n",
      "[LibSVM][CV]  C=2.2095350994035026, degree=1, gamma=0.0002488766453161173, kernel=linear, score=0.982, total=   0.0s\n",
      "[CV] C=2.2095350994035026, degree=1, gamma=0.0002488766453161173, kernel=linear \n",
      "[LibSVM][CV]  C=2.2095350994035026, degree=1, gamma=0.0002488766453161173, kernel=linear, score=0.963, total=   0.0s\n",
      "Fitting 2 folds for each of 1 candidates, totalling 2 fits\n",
      "[CV] C=5.87540411933884e-05, degree=6, gamma=0.001948086705393068, kernel=linear \n",
      "[LibSVM][CV]  C=5.87540411933884e-05, degree=6, gamma=0.001948086705393068, kernel=linear, score=0.179, total=   0.0s\n",
      "[CV] C=5.87540411933884e-05, degree=6, gamma=0.001948086705393068, kernel=linear \n",
      "[LibSVM][CV]  C=5.87540411933884e-05, degree=6, gamma=0.001948086705393068, kernel=linear, score=0.178, total=   0.0s\n",
      "Fitting 2 folds for each of 1 candidates, totalling 2 fits\n",
      "[CV] C=0.0006168340492440594, degree=3, gamma=0.1251031728258015, kernel=linear \n",
      "[LibSVM][CV]  C=0.0006168340492440594, degree=3, gamma=0.1251031728258015, kernel=linear, score=0.179, total=   0.0s\n",
      "[CV] C=0.0006168340492440594, degree=3, gamma=0.1251031728258015, kernel=linear \n",
      "[LibSVM][CV]  C=0.0006168340492440594, degree=3, gamma=0.1251031728258015, kernel=linear, score=0.178, total=   0.0s\n",
      "[LibSVM]0.9717034521788342\n"
     ]
    },
    {
     "name": "stderr",
     "output_type": "stream",
     "text": [
      "[Parallel(n_jobs=1)]: Using backend SequentialBackend with 1 concurrent workers.\n",
      "[Parallel(n_jobs=1)]: Done   1 out of   1 | elapsed:    0.0s remaining:    0.0s\n",
      "[Parallel(n_jobs=1)]: Done   2 out of   2 | elapsed:    0.0s remaining:    0.0s\n",
      "[Parallel(n_jobs=1)]: Done   2 out of   2 | elapsed:    0.0s finished\n",
      "[Parallel(n_jobs=1)]: Using backend SequentialBackend with 1 concurrent workers.\n",
      "[Parallel(n_jobs=1)]: Done   1 out of   1 | elapsed:    0.0s remaining:    0.0s\n",
      "[Parallel(n_jobs=1)]: Done   2 out of   2 | elapsed:    0.0s remaining:    0.0s\n",
      "[Parallel(n_jobs=1)]: Done   2 out of   2 | elapsed:    0.0s finished\n",
      "[Parallel(n_jobs=1)]: Using backend SequentialBackend with 1 concurrent workers.\n",
      "[Parallel(n_jobs=1)]: Done   1 out of   1 | elapsed:    0.0s remaining:    0.0s\n",
      "[Parallel(n_jobs=1)]: Done   2 out of   2 | elapsed:    0.0s remaining:    0.0s\n",
      "[Parallel(n_jobs=1)]: Done   2 out of   2 | elapsed:    0.0s finished\n",
      "[Parallel(n_jobs=1)]: Using backend SequentialBackend with 1 concurrent workers.\n",
      "[Parallel(n_jobs=1)]: Done   1 out of   1 | elapsed:    0.0s remaining:    0.0s\n",
      "[Parallel(n_jobs=1)]: Done   2 out of   2 | elapsed:    0.0s remaining:    0.0s\n",
      "[Parallel(n_jobs=1)]: Done   2 out of   2 | elapsed:    0.0s finished\n",
      "[Parallel(n_jobs=1)]: Using backend SequentialBackend with 1 concurrent workers.\n",
      "[Parallel(n_jobs=1)]: Done   1 out of   1 | elapsed:    0.0s remaining:    0.0s\n",
      "[Parallel(n_jobs=1)]: Done   2 out of   2 | elapsed:    0.0s remaining:    0.0s\n",
      "[Parallel(n_jobs=1)]: Done   2 out of   2 | elapsed:    0.0s finished\n"
     ]
    }
   ],
   "source": [
    "from skopt import BayesSearchCV\n",
    "# parameter ranges are specified by one of below\n",
    "from skopt.space import Real, Categorical, Integer\n",
    "\n",
    "from sklearn.datasets import load_iris\n",
    "from sklearn.svm import SVC\n",
    "from sklearn.model_selection import train_test_split\n",
    "\n",
    "import numpy as np\n",
    "import pandas as pd\n",
    "\n",
    "import warnings\n",
    "warnings.filterwarnings('ignore')\n",
    "\n",
    "X, y = load_iris(True)\n",
    "X_train, X_test, y_train, y_test = train_test_split(X, y,\n",
    "                                                    train_size=0.75,\n",
    "                                                    random_state=0)\n",
    "\n",
    "# log-uniform: understand as search over p = exp(x) by varying x\n",
    "opt = BayesSearchCV(\n",
    "    SVC(verbose=3),\n",
    "    {\n",
    "        'C': Real(1e-6, 1e+6, prior='log-uniform'),\n",
    "        'gamma': Real(1e-6, 1e+1, prior='log-uniform'),\n",
    "        'degree': Integer(1,8),\n",
    "        'kernel': Categorical(['linear']),\n",
    "    },\n",
    "    n_iter=5,\n",
    "    verbose = 3,\n",
    "    n_points = 1,\n",
    "    cv=2,\n",
    "    scoring=\"f1_macro\",\n",
    "    random_state=0\n",
    ")\n",
    "\n",
    "# executes bayesian optimization\n",
    "_ = opt.fit(X_train, y_train)\n",
    "\n",
    "# model can be saved, used for predictions or scoring\n",
    "print(opt.score(X_test, y_test))"
   ]
  },
  {
   "cell_type": "code",
   "execution_count": 39,
   "id": "baf7d3c4",
   "metadata": {},
   "outputs": [
    {
     "data": {
      "text/html": [
       "<div>\n",
       "<style scoped>\n",
       "    .dataframe tbody tr th:only-of-type {\n",
       "        vertical-align: middle;\n",
       "    }\n",
       "\n",
       "    .dataframe tbody tr th {\n",
       "        vertical-align: top;\n",
       "    }\n",
       "\n",
       "    .dataframe thead th {\n",
       "        text-align: right;\n",
       "    }\n",
       "</style>\n",
       "<table border=\"1\" class=\"dataframe\">\n",
       "  <thead>\n",
       "    <tr style=\"text-align: right;\">\n",
       "      <th></th>\n",
       "      <th>split0_test_score</th>\n",
       "      <th>split1_test_score</th>\n",
       "      <th>mean_test_score</th>\n",
       "      <th>std_test_score</th>\n",
       "      <th>rank_test_score</th>\n",
       "      <th>mean_fit_time</th>\n",
       "      <th>std_fit_time</th>\n",
       "      <th>mean_score_time</th>\n",
       "      <th>std_score_time</th>\n",
       "      <th>param_C</th>\n",
       "      <th>param_degree</th>\n",
       "      <th>param_gamma</th>\n",
       "      <th>param_kernel</th>\n",
       "      <th>params</th>\n",
       "    </tr>\n",
       "  </thead>\n",
       "  <tbody>\n",
       "    <tr>\n",
       "      <td>0</td>\n",
       "      <td>0.911320</td>\n",
       "      <td>0.944486</td>\n",
       "      <td>0.927607</td>\n",
       "      <td>0.016580</td>\n",
       "      <td>3</td>\n",
       "      <td>0.000887</td>\n",
       "      <td>0.000058</td>\n",
       "      <td>0.000845</td>\n",
       "      <td>2.062321e-05</td>\n",
       "      <td>2.352719</td>\n",
       "      <td>6</td>\n",
       "      <td>0.022854</td>\n",
       "      <td>poly</td>\n",
       "      <td>{'C': 2.352718564818733, 'degree': 6, 'gamma':...</td>\n",
       "    </tr>\n",
       "    <tr>\n",
       "      <td>1</td>\n",
       "      <td>0.964815</td>\n",
       "      <td>0.963294</td>\n",
       "      <td>0.964068</td>\n",
       "      <td>0.000760</td>\n",
       "      <td>2</td>\n",
       "      <td>0.001051</td>\n",
       "      <td>0.000137</td>\n",
       "      <td>0.000815</td>\n",
       "      <td>1.764297e-05</td>\n",
       "      <td>0.001260</td>\n",
       "      <td>8</td>\n",
       "      <td>2.285960</td>\n",
       "      <td>poly</td>\n",
       "      <td>{'C': 0.0012602593949011189, 'degree': 8, 'gam...</td>\n",
       "    </tr>\n",
       "    <tr>\n",
       "      <td>2</td>\n",
       "      <td>0.982346</td>\n",
       "      <td>0.963294</td>\n",
       "      <td>0.972990</td>\n",
       "      <td>0.009525</td>\n",
       "      <td>1</td>\n",
       "      <td>0.000859</td>\n",
       "      <td>0.000115</td>\n",
       "      <td>0.000796</td>\n",
       "      <td>1.299381e-05</td>\n",
       "      <td>2.209535</td>\n",
       "      <td>1</td>\n",
       "      <td>0.000249</td>\n",
       "      <td>linear</td>\n",
       "      <td>{'C': 2.2095350994035026, 'degree': 1, 'gamma'...</td>\n",
       "    </tr>\n",
       "    <tr>\n",
       "      <td>3</td>\n",
       "      <td>0.179487</td>\n",
       "      <td>0.177778</td>\n",
       "      <td>0.178648</td>\n",
       "      <td>0.000855</td>\n",
       "      <td>4</td>\n",
       "      <td>0.000955</td>\n",
       "      <td>0.000127</td>\n",
       "      <td>0.000878</td>\n",
       "      <td>1.084805e-05</td>\n",
       "      <td>0.000059</td>\n",
       "      <td>6</td>\n",
       "      <td>0.001948</td>\n",
       "      <td>poly</td>\n",
       "      <td>{'C': 5.87540411933884e-05, 'degree': 6, 'gamm...</td>\n",
       "    </tr>\n",
       "    <tr>\n",
       "      <td>4</td>\n",
       "      <td>0.179487</td>\n",
       "      <td>0.177778</td>\n",
       "      <td>0.178648</td>\n",
       "      <td>0.000855</td>\n",
       "      <td>4</td>\n",
       "      <td>0.000914</td>\n",
       "      <td>0.000098</td>\n",
       "      <td>0.000876</td>\n",
       "      <td>8.344650e-07</td>\n",
       "      <td>0.000617</td>\n",
       "      <td>3</td>\n",
       "      <td>0.125103</td>\n",
       "      <td>linear</td>\n",
       "      <td>{'C': 0.0006168340492440594, 'degree': 3, 'gam...</td>\n",
       "    </tr>\n",
       "  </tbody>\n",
       "</table>\n",
       "</div>"
      ],
      "text/plain": [
       "   split0_test_score  split1_test_score  mean_test_score  std_test_score  \\\n",
       "0           0.911320           0.944486         0.927607        0.016580   \n",
       "1           0.964815           0.963294         0.964068        0.000760   \n",
       "2           0.982346           0.963294         0.972990        0.009525   \n",
       "3           0.179487           0.177778         0.178648        0.000855   \n",
       "4           0.179487           0.177778         0.178648        0.000855   \n",
       "\n",
       "   rank_test_score  mean_fit_time  std_fit_time  mean_score_time  \\\n",
       "0                3       0.000887      0.000058         0.000845   \n",
       "1                2       0.001051      0.000137         0.000815   \n",
       "2                1       0.000859      0.000115         0.000796   \n",
       "3                4       0.000955      0.000127         0.000878   \n",
       "4                4       0.000914      0.000098         0.000876   \n",
       "\n",
       "   std_score_time   param_C  param_degree  param_gamma param_kernel  \\\n",
       "0    2.062321e-05  2.352719             6     0.022854         poly   \n",
       "1    1.764297e-05  0.001260             8     2.285960         poly   \n",
       "2    1.299381e-05  2.209535             1     0.000249       linear   \n",
       "3    1.084805e-05  0.000059             6     0.001948         poly   \n",
       "4    8.344650e-07  0.000617             3     0.125103       linear   \n",
       "\n",
       "                                              params  \n",
       "0  {'C': 2.352718564818733, 'degree': 6, 'gamma':...  \n",
       "1  {'C': 0.0012602593949011189, 'degree': 8, 'gam...  \n",
       "2  {'C': 2.2095350994035026, 'degree': 1, 'gamma'...  \n",
       "3  {'C': 5.87540411933884e-05, 'degree': 6, 'gamm...  \n",
       "4  {'C': 0.0006168340492440594, 'degree': 3, 'gam...  "
      ]
     },
     "execution_count": 39,
     "metadata": {},
     "output_type": "execute_result"
    }
   ],
   "source": [
    "pd.DataFrame(opt.cv_results_)"
   ]
  },
  {
   "cell_type": "code",
   "execution_count": 45,
   "id": "bbe02cda",
   "metadata": {},
   "outputs": [
    {
     "data": {
      "text/plain": [
       "BayesSearchCV(cv=2, error_score='raise',\n",
       "              estimator=SVC(C=1.0, cache_size=200, class_weight=None, coef0=0.0,\n",
       "                            decision_function_shape='ovr', degree=3,\n",
       "                            gamma='auto_deprecated', kernel='rbf', max_iter=-1,\n",
       "                            probability=False, random_state=None,\n",
       "                            shrinking=True, tol=0.001, verbose=3),\n",
       "              fit_params=None, iid=True, n_iter=5, n_jobs=1, n_points=1,\n",
       "              optimizer_kwargs=None, pre_dispatch...\n",
       "              refit=True, return_train_score=False, scoring='f1_macro',\n",
       "              search_spaces={'C': Real(low=1e-06, high=1000000.0, prior='log-uniform', transform='identity'),\n",
       "                             'degree': Integer(low=1, high=8, prior='uniform', transform='identity'),\n",
       "                             'gamma': Real(low=1e-06, high=10.0, prior='log-uniform', transform='identity'),\n",
       "                             'kernel': Categorical(categories=('linear',), prior=None)},\n",
       "              verbose=3)"
      ]
     },
     "execution_count": 45,
     "metadata": {},
     "output_type": "execute_result"
    }
   ],
   "source": [
    "opt"
   ]
  },
  {
   "cell_type": "code",
   "execution_count": 41,
   "id": "5368e046",
   "metadata": {},
   "outputs": [
    {
     "data": {
      "text/plain": [
       "0.9729899912200654"
      ]
     },
     "execution_count": 41,
     "metadata": {},
     "output_type": "execute_result"
    }
   ],
   "source": [
    "opt.best_score_"
   ]
  },
  {
   "cell_type": "code",
   "execution_count": 44,
   "id": "3056b141",
   "metadata": {},
   "outputs": [
    {
     "data": {
      "text/plain": [
       "(150, 4)"
      ]
     },
     "execution_count": 44,
     "metadata": {},
     "output_type": "execute_result"
    }
   ],
   "source": [
    "X.shape"
   ]
  },
  {
   "cell_type": "code",
   "execution_count": 46,
   "id": "7f71493d",
   "metadata": {},
   "outputs": [
    {
     "data": {
      "text/plain": [
       "10000000000000000000000000000000000000000000000000000000000000000000000000000000000000000000000000000"
      ]
     },
     "execution_count": 46,
     "metadata": {},
     "output_type": "execute_result"
    }
   ],
   "source": [
    "10**100"
   ]
  },
  {
   "cell_type": "code",
   "execution_count": 56,
   "id": "64865a0c",
   "metadata": {},
   "outputs": [
    {
     "data": {
      "text/plain": [
       "array([ 1.25892541,  1.58489319,  1.99526231,  2.51188643,  3.16227766,\n",
       "        3.98107171,  5.01187234,  6.30957344,  7.94328235, 10.        ])"
      ]
     },
     "execution_count": 56,
     "metadata": {},
     "output_type": "execute_result"
    }
   ],
   "source": [
    "np.logspace(0.1,1,10)"
   ]
  },
  {
   "cell_type": "code",
   "execution_count": 51,
   "id": "af16a9d5",
   "metadata": {},
   "outputs": [
    {
     "data": {
      "text/plain": [
       "1.2589254117941673"
      ]
     },
     "execution_count": 51,
     "metadata": {},
     "output_type": "execute_result"
    }
   ],
   "source": [
    "10**0.1"
   ]
  },
  {
   "cell_type": "code",
   "execution_count": 52,
   "id": "bd548e26",
   "metadata": {},
   "outputs": [
    {
     "data": {
      "text/plain": [
       "10"
      ]
     },
     "execution_count": 52,
     "metadata": {},
     "output_type": "execute_result"
    }
   ],
   "source": [
    "10**1"
   ]
  },
  {
   "cell_type": "code",
   "execution_count": 53,
   "id": "8ca45ef9",
   "metadata": {},
   "outputs": [
    {
     "data": {
      "text/plain": [
       "1000"
      ]
     },
     "execution_count": 53,
     "metadata": {},
     "output_type": "execute_result"
    }
   ],
   "source": [
    "10**3"
   ]
  },
  {
   "cell_type": "code",
   "execution_count": 57,
   "id": "18ebf638",
   "metadata": {},
   "outputs": [
    {
     "data": {
      "text/plain": [
       "10000000000"
      ]
     },
     "execution_count": 57,
     "metadata": {},
     "output_type": "execute_result"
    }
   ],
   "source": [
    "10**10"
   ]
  },
  {
   "cell_type": "code",
   "execution_count": 58,
   "id": "aa34cc9a",
   "metadata": {},
   "outputs": [
    {
     "data": {
      "text/plain": [
       "-1.0"
      ]
     },
     "execution_count": 58,
     "metadata": {},
     "output_type": "execute_result"
    }
   ],
   "source": [
    "np.log10(0.1)"
   ]
  },
  {
   "cell_type": "code",
   "execution_count": 59,
   "id": "91587bae",
   "metadata": {},
   "outputs": [
    {
     "data": {
      "text/plain": [
       "2.0"
      ]
     },
     "execution_count": 59,
     "metadata": {},
     "output_type": "execute_result"
    }
   ],
   "source": [
    "np.log10(100) "
   ]
  },
  {
   "cell_type": "code",
   "execution_count": 61,
   "id": "bc8ba613",
   "metadata": {},
   "outputs": [
    {
     "data": {
      "text/plain": [
       "0.0"
      ]
     },
     "execution_count": 61,
     "metadata": {},
     "output_type": "execute_result"
    }
   ],
   "source": [
    "np.log10(1)"
   ]
  },
  {
   "cell_type": "code",
   "execution_count": null,
   "id": "fdbe2f90",
   "metadata": {},
   "outputs": [],
   "source": []
  }
 ],
 "metadata": {
  "kernelspec": {
   "display_name": "attackclass",
   "language": "python",
   "name": "attackclass"
  },
  "language_info": {
   "codemirror_mode": {
    "name": "ipython",
    "version": 3
   },
   "file_extension": ".py",
   "mimetype": "text/x-python",
   "name": "python",
   "nbconvert_exporter": "python",
   "pygments_lexer": "ipython3",
   "version": "3.8.8"
  }
 },
 "nbformat": 4,
 "nbformat_minor": 5
}
