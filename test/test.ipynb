{
 "cells": [
  {
   "cell_type": "code",
   "execution_count": 271,
   "id": "b7ad4aa0",
   "metadata": {},
   "outputs": [],
   "source": [
    "import yaml\n",
    "yaml.warnings({'YAMLLoadWarning': False})\n",
    "import pandas as pd\n",
    "from sklearn.preprocessing import label_binarize\n",
    "from sklearn.preprocessing import StandardScaler\n",
    "from sklearn.multiclass import OneVsRestClassifier\n",
    "from sklearn.model_selection import validation_curve\n",
    "from sklearn.svm import SVC\n",
    "from skopt import BayesSearchCV\n",
    "from skopt.space import Real, Integer\n",
    "import numpy as np\n",
    "import warnings\n",
    "warnings.filterwarnings('ignore')\n",
    "from matplotlib import pyplot as plt\n"
   ]
  },
  {
   "cell_type": "code",
   "execution_count": 272,
   "id": "c362ea54",
   "metadata": {},
   "outputs": [],
   "source": [
    "# Configuration parameters\n",
    "config_file = \"../config/config_simple_ugr16.yaml\"\n",
    "model = \"svc\"\n",
    "rep = 1\n",
    "kfold = 2"
   ]
  },
  {
   "cell_type": "code",
   "execution_count": 273,
   "id": "5388cc62",
   "metadata": {},
   "outputs": [],
   "source": [
    "def load_config(path_to_config_file):\n",
    "    \"\"\"\n",
    "        Load config file\n",
    "\n",
    "        Parameters\n",
    "        ----------\n",
    "        path_to_config_file: str\n",
    "            Path to *.yaml file\n",
    "\n",
    "        Return\n",
    "        ------\n",
    "        configuration:\n",
    "            The yaml file loaded\n",
    "\n",
    "        Raise\n",
    "        -----\n",
    "        e: Exception\n",
    "             If something was wrong.\n",
    "\n",
    "\n",
    "    \"\"\"\n",
    "    try:\n",
    "        with open(path_to_config_file) as f:\n",
    "            configuration = yaml.load(f)\n",
    "    except Exception as e:\n",
    "        print(\"There was an ERROR loading the configuration file: \" + path_to_config_file)\n",
    "        raise e\n",
    "\n",
    "    return configuration"
   ]
  },
  {
   "cell_type": "code",
   "execution_count": 274,
   "id": "d7df7aed",
   "metadata": {},
   "outputs": [],
   "source": [
    "# load configuration\n",
    "config = load_config(config_file)"
   ]
  },
  {
   "cell_type": "code",
   "execution_count": 275,
   "id": "956896a2",
   "metadata": {},
   "outputs": [],
   "source": [
    "# Data root path\n",
    "root_path = config['folder_paths']['root_path']\n",
    "# Reading dataset and aux files for selecting folds and reps and for getting variable selection.\n",
    "mc_file = config['file_paths']['mc_file']\n",
    "mcfold_file = config['file_paths']['mcfold_file']\n",
    "mcvars_file = config['file_paths']['mcvars_file']\n",
    "\n",
    "df = pd.read_csv(root_path + mc_file)\n",
    "df_folds = pd.read_csv(root_path + mcfold_file)\n",
    "df_vars = pd.read_csv(root_path + mcvars_file)"
   ]
  },
  {
   "cell_type": "code",
   "execution_count": 276,
   "id": "771f7655",
   "metadata": {},
   "outputs": [
    {
     "data": {
      "text/plain": [
       "((47275, 145), (47275, 20), (100, 136))"
      ]
     },
     "execution_count": 276,
     "metadata": {},
     "output_type": "execute_result"
    }
   ],
   "source": [
    "df.shape, df_folds.shape, df_vars.shape"
   ]
  },
  {
   "cell_type": "code",
   "execution_count": 277,
   "id": "27e0d6de",
   "metadata": {},
   "outputs": [],
   "source": [
    "# Feature selection\n",
    "d = (df_vars.groupby('repeticion').groups[rep]) & (df_vars.groupby('caja.de.test').groups[kfold])\n",
    "\n",
    "size = df_vars.shape[1]\n",
    "f = ['']\n",
    "\n",
    "for i in range(1, size):\n",
    "    if int(df_vars.iloc[d, i]) == 1:\n",
    "        f.append(df_vars.iloc[d, i].name)\n",
    "\n",
    "f.remove(\"\")\n",
    "if kfold == 1:\n",
    "    f.remove(\"caja.de.test\")"
   ]
  },
  {
   "cell_type": "code",
   "execution_count": 278,
   "id": "8ecb90d0",
   "metadata": {},
   "outputs": [],
   "source": [
    "# Applying feature selection and outcome \n",
    "X = df[f]\n",
    "y = df['outcome']"
   ]
  },
  {
   "cell_type": "code",
   "execution_count": 279,
   "id": "d59dce90",
   "metadata": {},
   "outputs": [],
   "source": [
    "df_no_labels = df.iloc[:,1:-10] # Removing ts and labels columns. "
   ]
  },
  {
   "cell_type": "code",
   "execution_count": 280,
   "id": "876abf61",
   "metadata": {},
   "outputs": [
    {
     "name": "stdout",
     "output_type": "stream",
     "text": [
      "82 chosen variables from 134\n"
     ]
    }
   ],
   "source": [
    "print(\"{0} chosen variables from {1}\".format(len(f),df_no_labels.shape[1]))"
   ]
  },
  {
   "cell_type": "code",
   "execution_count": 281,
   "id": "bdf164b7",
   "metadata": {},
   "outputs": [],
   "source": [
    "# Making TRAINING and TEST datasets according to the number of fold\n",
    "\n",
    "group = 'REP.' + str(rep)\n",
    "rows_fold = df_folds.iloc[df_folds.groupby(group).groups[kfold]].index\n",
    "No_rows_fold = df_folds[df_folds[group] != kfold][group].index\n",
    "\n",
    "# Getting labels from config file\n",
    "\n",
    "labels = config['labels']\n",
    "\n",
    "# Data TRAIN and LABEL\n",
    "\n",
    "X_train = X.drop(X.index[rows_fold])\n",
    "y_train = y.drop(y.index[rows_fold])\n",
    "y_train_bina = label_binarize(y_train, classes=labels)\n",
    "\n",
    "# Data TEST and LABEL\n",
    "\n",
    "X_test = X.drop(X.index[No_rows_fold])\n",
    "y_test = y.drop(y.index[No_rows_fold])\n",
    "y_test_bina = label_binarize(y_test, classes=labels)\n",
    "\n",
    "# Data normalization\n",
    "X_train_scaled = StandardScaler().fit_transform(X_train)\n",
    "X_test_scaled = StandardScaler().fit_transform(X_test)"
   ]
  },
  {
   "cell_type": "code",
   "execution_count": 282,
   "id": "3b9e370e",
   "metadata": {},
   "outputs": [],
   "source": [
    "parameters = {'C': Real(config['models']['svc']['hyperparameters']['C'][0],\n",
    "                      config['models']['svc']['hyperparameters']['C'][1],\n",
    "                      prior='log-uniform')}\n",
    "\n",
    "# Adding gamma when SVC kernel is rbf\n",
    "if config['models']['svc']['hyperparameters']['kernel'] == 'rbf':\n",
    "    parameters['gamma'] = Real(config['models']['svc']['hyperparameters']['gamma'][0],\n",
    "                               config['models']['svc']['hyperparameters']['gamma'][1],\n",
    "                               prior='uniform')\n",
    "\n",
    "model_grid = SVC(random_state=config['models']['svc']['general']['random_state'],\n",
    "                 kernel = config['models']['svc']['hyperparameters']['kernel'], verbose=3)"
   ]
  },
  {
   "cell_type": "code",
   "execution_count": 283,
   "id": "5fe5c079",
   "metadata": {},
   "outputs": [
    {
     "data": {
      "text/plain": [
       "SVC(C=1.0, cache_size=200, class_weight=None, coef0=0.0,\n",
       "    decision_function_shape='ovr', degree=3, gamma='auto_deprecated',\n",
       "    kernel='linear', max_iter=-1, probability=False, random_state=0,\n",
       "    shrinking=True, tol=0.001, verbose=3)"
      ]
     },
     "execution_count": 283,
     "metadata": {},
     "output_type": "execute_result"
    }
   ],
   "source": [
    "model_grid"
   ]
  },
  {
   "cell_type": "code",
   "execution_count": 284,
   "id": "3556f154",
   "metadata": {},
   "outputs": [],
   "source": [
    "clf = BayesSearchCV(model_grid, parameters,\n",
    "                            n_iter= config['hyper_bayesian']['n_iter'],\n",
    "                            verbose=3,\n",
    "                            n_jobs= config['hyper_bayesian']['n_jobs'],\n",
    "                            cv = config['hyper_bayesian']['cv'],\n",
    "                            n_points = config['hyper_bayesian']['n_points'],\n",
    "                            scoring = config['hyper_bayesian']['scoring'],\n",
    "                            random_state = config['hyper_bayesian']['random_state'])"
   ]
  },
  {
   "cell_type": "code",
   "execution_count": 285,
   "id": "a5e6821a",
   "metadata": {},
   "outputs": [
    {
     "data": {
      "text/plain": [
       "BayesSearchCV(cv=5, error_score='raise',\n",
       "              estimator=SVC(C=1.0, cache_size=200, class_weight=None, coef0=0.0,\n",
       "                            decision_function_shape='ovr', degree=3,\n",
       "                            gamma='auto_deprecated', kernel='linear',\n",
       "                            max_iter=-1, probability=False, random_state=0,\n",
       "                            shrinking=True, tol=0.001, verbose=3),\n",
       "              fit_params=None, iid=True, n_iter=30, n_jobs=15, n_points=3,\n",
       "              optimizer_kwargs=None, pre_dispatch='2*n_jobs', random_state=0,\n",
       "              refit=True, return_train_score=False, scoring='f1_macro',\n",
       "              search_spaces={'C': Real(low=0.1, high=10, prior='log-uniform', transform='identity')},\n",
       "              verbose=3)"
      ]
     },
     "execution_count": 285,
     "metadata": {},
     "output_type": "execute_result"
    }
   ],
   "source": [
    "clf"
   ]
  },
  {
   "cell_type": "code",
   "execution_count": 45,
   "id": "9786ff27",
   "metadata": {},
   "outputs": [
    {
     "name": "stdout",
     "output_type": "stream",
     "text": [
      "Fitting 5 folds for each of 1 candidates, totalling 5 fits\n"
     ]
    },
    {
     "name": "stderr",
     "output_type": "stream",
     "text": [
      "[Parallel(n_jobs=10)]: Using backend LokyBackend with 10 concurrent workers.\n",
      "[Parallel(n_jobs=10)]: Done   2 out of   5 | elapsed: 16.2min remaining: 24.3min\n",
      "[Parallel(n_jobs=10)]: Done   5 out of   5 | elapsed: 17.2min finished\n"
     ]
    },
    {
     "name": "stdout",
     "output_type": "stream",
     "text": [
      "[LibSVM]2835.747947692871\n"
     ]
    }
   ],
   "source": [
    "# C=[0.1,100] log-uniform\n",
    "#obs = 40000\n",
    "#clf.fit(X_train_scaled[:obs,:], y_train[:obs])\n",
    "import time\n",
    "start = time.time()\n",
    "clf.fit(X_train_scaled, y_train)\n",
    "end = time.time()\n",
    "print(end - start)"
   ]
  },
  {
   "cell_type": "code",
   "execution_count": 49,
   "id": "9c8fd305",
   "metadata": {},
   "outputs": [
    {
     "data": {
      "text/plain": [
       "23.625"
      ]
     },
     "execution_count": 49,
     "metadata": {},
     "output_type": "execute_result"
    }
   ],
   "source": [
    "# C=[0.1, 100] log-uniform y 30 iteracciones que es lo que hacíamos ~ un día para un k-fold y un rep!!!!!\n",
    "(2835/60*30)/60"
   ]
  },
  {
   "cell_type": "code",
   "execution_count": 46,
   "id": "42f98ac5",
   "metadata": {},
   "outputs": [
    {
     "data": {
      "text/html": [
       "<div>\n",
       "<style scoped>\n",
       "    .dataframe tbody tr th:only-of-type {\n",
       "        vertical-align: middle;\n",
       "    }\n",
       "\n",
       "    .dataframe tbody tr th {\n",
       "        vertical-align: top;\n",
       "    }\n",
       "\n",
       "    .dataframe thead th {\n",
       "        text-align: right;\n",
       "    }\n",
       "</style>\n",
       "<table border=\"1\" class=\"dataframe\">\n",
       "  <thead>\n",
       "    <tr style=\"text-align: right;\">\n",
       "      <th></th>\n",
       "      <th>split0_test_score</th>\n",
       "      <th>split1_test_score</th>\n",
       "      <th>split2_test_score</th>\n",
       "      <th>split3_test_score</th>\n",
       "      <th>split4_test_score</th>\n",
       "      <th>mean_test_score</th>\n",
       "      <th>std_test_score</th>\n",
       "      <th>rank_test_score</th>\n",
       "      <th>mean_fit_time</th>\n",
       "      <th>std_fit_time</th>\n",
       "      <th>mean_score_time</th>\n",
       "      <th>std_score_time</th>\n",
       "      <th>param_C</th>\n",
       "      <th>params</th>\n",
       "    </tr>\n",
       "  </thead>\n",
       "  <tbody>\n",
       "    <tr>\n",
       "      <th>0</th>\n",
       "      <td>0.767279</td>\n",
       "      <td>0.792597</td>\n",
       "      <td>0.67733</td>\n",
       "      <td>0.751157</td>\n",
       "      <td>0.736543</td>\n",
       "      <td>0.744983</td>\n",
       "      <td>0.038604</td>\n",
       "      <td>1</td>\n",
       "      <td>989.365856</td>\n",
       "      <td>29.802487</td>\n",
       "      <td>10.215385</td>\n",
       "      <td>0.393633</td>\n",
       "      <td>3.916449</td>\n",
       "      <td>{'C': 3.916449174261764}</td>\n",
       "    </tr>\n",
       "  </tbody>\n",
       "</table>\n",
       "</div>"
      ],
      "text/plain": [
       "   split0_test_score  split1_test_score  split2_test_score  split3_test_score  \\\n",
       "0           0.767279           0.792597            0.67733           0.751157   \n",
       "\n",
       "   split4_test_score  mean_test_score  std_test_score  rank_test_score  \\\n",
       "0           0.736543         0.744983        0.038604                1   \n",
       "\n",
       "   mean_fit_time  std_fit_time  mean_score_time  std_score_time   param_C  \\\n",
       "0     989.365856     29.802487        10.215385        0.393633  3.916449   \n",
       "\n",
       "                     params  \n",
       "0  {'C': 3.916449174261764}  "
      ]
     },
     "execution_count": 46,
     "metadata": {},
     "output_type": "execute_result"
    }
   ],
   "source": [
    "pd.DataFrame(clf.cv_results_)"
   ]
  },
  {
   "cell_type": "code",
   "execution_count": 88,
   "id": "152f6616",
   "metadata": {},
   "outputs": [
    {
     "name": "stdout",
     "output_type": "stream",
     "text": [
      "Fitting 5 folds for each of 1 candidates, totalling 5 fits\n"
     ]
    },
    {
     "name": "stderr",
     "output_type": "stream",
     "text": [
      "[Parallel(n_jobs=10)]: Using backend LokyBackend with 10 concurrent workers.\n",
      "[Parallel(n_jobs=10)]: Done   2 out of   5 | elapsed:  4.5min remaining:  6.8min\n",
      "[Parallel(n_jobs=10)]: Done   5 out of   5 | elapsed:  4.8min finished\n"
     ]
    },
    {
     "name": "stdout",
     "output_type": "stream",
     "text": [
      "[LibSVM]762.1214115619659\n"
     ]
    }
   ],
   "source": [
    "# C=[0.1,1] uniform\n",
    "import time\n",
    "start = time.time()\n",
    "clf.fit(X_train_scaled, y_train)\n",
    "end = time.time()\n",
    "print(end - start)"
   ]
  },
  {
   "cell_type": "code",
   "execution_count": 89,
   "id": "7537798c",
   "metadata": {},
   "outputs": [
    {
     "data": {
      "text/html": [
       "<div>\n",
       "<style scoped>\n",
       "    .dataframe tbody tr th:only-of-type {\n",
       "        vertical-align: middle;\n",
       "    }\n",
       "\n",
       "    .dataframe tbody tr th {\n",
       "        vertical-align: top;\n",
       "    }\n",
       "\n",
       "    .dataframe thead th {\n",
       "        text-align: right;\n",
       "    }\n",
       "</style>\n",
       "<table border=\"1\" class=\"dataframe\">\n",
       "  <thead>\n",
       "    <tr style=\"text-align: right;\">\n",
       "      <th></th>\n",
       "      <th>split0_test_score</th>\n",
       "      <th>split1_test_score</th>\n",
       "      <th>split2_test_score</th>\n",
       "      <th>split3_test_score</th>\n",
       "      <th>split4_test_score</th>\n",
       "      <th>mean_test_score</th>\n",
       "      <th>std_test_score</th>\n",
       "      <th>rank_test_score</th>\n",
       "      <th>mean_fit_time</th>\n",
       "      <th>std_fit_time</th>\n",
       "      <th>mean_score_time</th>\n",
       "      <th>std_score_time</th>\n",
       "      <th>param_C</th>\n",
       "      <th>params</th>\n",
       "    </tr>\n",
       "  </thead>\n",
       "  <tbody>\n",
       "    <tr>\n",
       "      <th>0</th>\n",
       "      <td>0.57263</td>\n",
       "      <td>0.606063</td>\n",
       "      <td>0.58064</td>\n",
       "      <td>0.614915</td>\n",
       "      <td>0.599302</td>\n",
       "      <td>0.594707</td>\n",
       "      <td>0.015772</td>\n",
       "      <td>1</td>\n",
       "      <td>261.680775</td>\n",
       "      <td>7.846287</td>\n",
       "      <td>13.422703</td>\n",
       "      <td>0.245385</td>\n",
       "      <td>0.577868</td>\n",
       "      <td>{'C': 0.5778677484569327}</td>\n",
       "    </tr>\n",
       "  </tbody>\n",
       "</table>\n",
       "</div>"
      ],
      "text/plain": [
       "   split0_test_score  split1_test_score  split2_test_score  split3_test_score  \\\n",
       "0            0.57263           0.606063            0.58064           0.614915   \n",
       "\n",
       "   split4_test_score  mean_test_score  std_test_score  rank_test_score  \\\n",
       "0           0.599302         0.594707        0.015772                1   \n",
       "\n",
       "   mean_fit_time  std_fit_time  mean_score_time  std_score_time   param_C  \\\n",
       "0     261.680775      7.846287        13.422703        0.245385  0.577868   \n",
       "\n",
       "                      params  \n",
       "0  {'C': 0.5778677484569327}  "
      ]
     },
     "execution_count": 89,
     "metadata": {},
     "output_type": "execute_result"
    }
   ],
   "source": [
    "pd.DataFrame(clf.cv_results_)"
   ]
  },
  {
   "cell_type": "code",
   "execution_count": 269,
   "id": "2eb5a6bf",
   "metadata": {},
   "outputs": [
    {
     "data": {
      "text/plain": [
       "BayesSearchCV(cv=5, error_score='raise',\n",
       "              estimator=SVC(C=1.0, cache_size=200, class_weight=None, coef0=0.0,\n",
       "                            decision_function_shape='ovr', degree=3,\n",
       "                            gamma='auto_deprecated', kernel='linear',\n",
       "                            max_iter=-1, probability=False, random_state=0,\n",
       "                            shrinking=True, tol=0.001, verbose=3),\n",
       "              fit_params=None, iid=True, n_iter=30, n_jobs=10, n_points=1,\n",
       "              optimizer_kwargs=None, pre_dispatch='2*n_jobs', random_state=0,\n",
       "              refit=True, return_train_score=False, scoring='f1_macro',\n",
       "              search_spaces={'C': Real(low=0.1, high=10, prior='log-uniform', transform='identity')},\n",
       "              verbose=3)"
      ]
     },
     "execution_count": 269,
     "metadata": {},
     "output_type": "execute_result"
    }
   ],
   "source": [
    "clf"
   ]
  },
  {
   "cell_type": "code",
   "execution_count": 286,
   "id": "744faebe",
   "metadata": {},
   "outputs": [
    {
     "name": "stdout",
     "output_type": "stream",
     "text": [
      "Fitting 5 folds for each of 3 candidates, totalling 15 fits\n"
     ]
    },
    {
     "name": "stderr",
     "output_type": "stream",
     "text": [
      "[Parallel(n_jobs=15)]: Using backend LokyBackend with 15 concurrent workers.\n",
      "[Parallel(n_jobs=15)]: Done   4 out of  15 | elapsed:  7.7min remaining: 21.0min\n",
      "[Parallel(n_jobs=15)]: Done  10 out of  15 | elapsed: 10.2min remaining:  5.1min\n",
      "[Parallel(n_jobs=15)]: Done  15 out of  15 | elapsed: 12.4min finished\n"
     ]
    },
    {
     "name": "stdout",
     "output_type": "stream",
     "text": [
      "Fitting 5 folds for each of 3 candidates, totalling 15 fits\n"
     ]
    },
    {
     "name": "stderr",
     "output_type": "stream",
     "text": [
      "[Parallel(n_jobs=15)]: Using backend LokyBackend with 15 concurrent workers.\n",
      "[Parallel(n_jobs=15)]: Done   4 out of  15 | elapsed:  3.4min remaining:  9.3min\n",
      "[Parallel(n_jobs=15)]: Done  10 out of  15 | elapsed: 32.6min remaining: 16.3min\n",
      "[Parallel(n_jobs=15)]: Done  15 out of  15 | elapsed: 41.4min finished\n"
     ]
    },
    {
     "name": "stdout",
     "output_type": "stream",
     "text": [
      "Fitting 5 folds for each of 3 candidates, totalling 15 fits\n"
     ]
    },
    {
     "name": "stderr",
     "output_type": "stream",
     "text": [
      "[Parallel(n_jobs=15)]: Using backend LokyBackend with 15 concurrent workers.\n",
      "[Parallel(n_jobs=15)]: Done   4 out of  15 | elapsed:  2.3min remaining:  6.3min\n",
      "[Parallel(n_jobs=15)]: Done  10 out of  15 | elapsed:  4.1min remaining:  2.0min\n",
      "[Parallel(n_jobs=15)]: Done  15 out of  15 | elapsed:  7.0min finished\n"
     ]
    },
    {
     "name": "stdout",
     "output_type": "stream",
     "text": [
      "Fitting 5 folds for each of 3 candidates, totalling 15 fits\n"
     ]
    },
    {
     "name": "stderr",
     "output_type": "stream",
     "text": [
      "[Parallel(n_jobs=15)]: Using backend LokyBackend with 15 concurrent workers.\n",
      "[Parallel(n_jobs=15)]: Done   4 out of  15 | elapsed:  1.9min remaining:  5.3min\n",
      "[Parallel(n_jobs=15)]: Done  10 out of  15 | elapsed:  2.0min remaining:  1.0min\n",
      "[Parallel(n_jobs=15)]: Done  15 out of  15 | elapsed:  2.7min finished\n"
     ]
    },
    {
     "name": "stdout",
     "output_type": "stream",
     "text": [
      "Fitting 5 folds for each of 3 candidates, totalling 15 fits\n"
     ]
    },
    {
     "name": "stderr",
     "output_type": "stream",
     "text": [
      "[Parallel(n_jobs=15)]: Using backend LokyBackend with 15 concurrent workers.\n",
      "[Parallel(n_jobs=15)]: Done   4 out of  15 | elapsed:  1.9min remaining:  5.2min\n",
      "[Parallel(n_jobs=15)]: Done  10 out of  15 | elapsed:  2.0min remaining:   59.7s\n",
      "[Parallel(n_jobs=15)]: Done  15 out of  15 | elapsed:  2.1min finished\n"
     ]
    },
    {
     "name": "stdout",
     "output_type": "stream",
     "text": [
      "Fitting 5 folds for each of 3 candidates, totalling 15 fits\n"
     ]
    },
    {
     "name": "stderr",
     "output_type": "stream",
     "text": [
      "[Parallel(n_jobs=15)]: Using backend LokyBackend with 15 concurrent workers.\n",
      "[Parallel(n_jobs=15)]: Done   4 out of  15 | elapsed:  1.9min remaining:  5.2min\n",
      "[Parallel(n_jobs=15)]: Done  10 out of  15 | elapsed:  2.0min remaining:   59.0s\n",
      "[Parallel(n_jobs=15)]: Done  15 out of  15 | elapsed:  2.1min finished\n"
     ]
    },
    {
     "name": "stdout",
     "output_type": "stream",
     "text": [
      "Fitting 5 folds for each of 3 candidates, totalling 15 fits\n"
     ]
    },
    {
     "name": "stderr",
     "output_type": "stream",
     "text": [
      "[Parallel(n_jobs=15)]: Using backend LokyBackend with 15 concurrent workers.\n",
      "[Parallel(n_jobs=15)]: Done   4 out of  15 | elapsed:  1.9min remaining:  5.2min\n",
      "[Parallel(n_jobs=15)]: Done  10 out of  15 | elapsed:  2.0min remaining:   59.3s\n",
      "[Parallel(n_jobs=15)]: Done  15 out of  15 | elapsed:  2.1min finished\n"
     ]
    },
    {
     "name": "stdout",
     "output_type": "stream",
     "text": [
      "Fitting 5 folds for each of 3 candidates, totalling 15 fits\n"
     ]
    },
    {
     "name": "stderr",
     "output_type": "stream",
     "text": [
      "[Parallel(n_jobs=15)]: Using backend LokyBackend with 15 concurrent workers.\n",
      "[Parallel(n_jobs=15)]: Done   4 out of  15 | elapsed:  2.3min remaining:  6.3min\n",
      "[Parallel(n_jobs=15)]: Done  10 out of  15 | elapsed:  2.4min remaining:  1.2min\n",
      "[Parallel(n_jobs=15)]: Done  15 out of  15 | elapsed:  2.5min finished\n"
     ]
    },
    {
     "name": "stdout",
     "output_type": "stream",
     "text": [
      "Fitting 5 folds for each of 3 candidates, totalling 15 fits\n"
     ]
    },
    {
     "name": "stderr",
     "output_type": "stream",
     "text": [
      "[Parallel(n_jobs=15)]: Using backend LokyBackend with 15 concurrent workers.\n",
      "[Parallel(n_jobs=15)]: Done   4 out of  15 | elapsed:  1.9min remaining:  5.2min\n",
      "[Parallel(n_jobs=15)]: Done  10 out of  15 | elapsed:  2.0min remaining:   59.0s\n",
      "[Parallel(n_jobs=15)]: Done  15 out of  15 | elapsed:  2.1min finished\n"
     ]
    },
    {
     "name": "stdout",
     "output_type": "stream",
     "text": [
      "Fitting 5 folds for each of 3 candidates, totalling 15 fits\n"
     ]
    },
    {
     "name": "stderr",
     "output_type": "stream",
     "text": [
      "[Parallel(n_jobs=15)]: Using backend LokyBackend with 15 concurrent workers.\n",
      "[Parallel(n_jobs=15)]: Done   4 out of  15 | elapsed:  1.9min remaining:  5.2min\n",
      "[Parallel(n_jobs=15)]: Done  10 out of  15 | elapsed:  2.0min remaining:  1.0min\n",
      "[Parallel(n_jobs=15)]: Done  15 out of  15 | elapsed:  2.1min finished\n"
     ]
    },
    {
     "name": "stdout",
     "output_type": "stream",
     "text": [
      "[LibSVM]4728.884869098663\n"
     ]
    }
   ],
   "source": [
    "# C=[0.1,10] log-uniform\n",
    "import time\n",
    "#obs=10000\n",
    "start = time.time()\n",
    "clf.fit(X_train_scaled, y_train)\n",
    "#clf.fit(X_train_scaled, y_train)\n",
    "end = time.time()\n",
    "print(end - start)"
   ]
  },
  {
   "cell_type": "code",
   "execution_count": 287,
   "id": "ce125e83",
   "metadata": {},
   "outputs": [
    {
     "data": {
      "text/plain": [
       "[<matplotlib.lines.Line2D at 0x7fbd659990a0>]"
      ]
     },
     "execution_count": 287,
     "metadata": {},
     "output_type": "execute_result"
    },
    {
     "data": {
      "image/png": "[encoded data removed]",
      "text/plain": [
       "<Figure size 432x288 with 1 Axes>"
      ]
     },
     "metadata": {
      "needs_background": "light"
     },
     "output_type": "display_data"
    }
   ],
   "source": [
    "df=pd.DataFrame(clf.cv_results_)\n",
    "plt.plot(df['param_C'],df['mean_test_score'],'o')"
   ]
  },
  {
   "cell_type": "code",
   "execution_count": 290,
   "id": "8a712914",
   "metadata": {},
   "outputs": [
    {
     "data": {
      "text/plain": [
       "<AxesSubplot:>"
      ]
     },
     "execution_count": 290,
     "metadata": {},
     "output_type": "execute_result"
    },
    {
     "data": {
      "image/png": "[encoded data removed]",
      "text/plain": [
       "<Figure size 432x288 with 1 Axes>"
      ]
     },
     "metadata": {
      "needs_background": "light"
     },
     "output_type": "display_data"
    }
   ],
   "source": [
    "df['param_C'].hist(bins=50)"
   ]
  },
  {
   "cell_type": "code",
   "execution_count": 288,
   "id": "7730c7b6",
   "metadata": {},
   "outputs": [
    {
     "data": {
      "text/plain": [
       "SVC(C=0.10003206436835438, cache_size=200, class_weight=None, coef0=0.0,\n",
       "    decision_function_shape='ovr', degree=3, gamma='auto_deprecated',\n",
       "    kernel='linear', max_iter=-1, probability=False, random_state=0,\n",
       "    shrinking=True, tol=0.001, verbose=3)"
      ]
     },
     "execution_count": 288,
     "metadata": {},
     "output_type": "execute_result"
    }
   ],
   "source": [
    "clf.best_estimator_"
   ]
  },
  {
   "cell_type": "code",
   "execution_count": 250,
   "id": "0c3960b9",
   "metadata": {},
   "outputs": [
    {
     "data": {
      "text/plain": [
       "[<matplotlib.lines.Line2D at 0x7fbd6594b640>]"
      ]
     },
     "execution_count": 250,
     "metadata": {},
     "output_type": "execute_result"
    },
    {
     "data": {
      "image/png": "[encoded data removed]",
      "text/plain": [
       "<Figure size 432x288 with 1 Axes>"
      ]
     },
     "metadata": {
      "needs_background": "light"
     },
     "output_type": "display_data"
    }
   ],
   "source": [
    "df=pd.DataFrame(clf.cv_results_)\n",
    "plt.plot(df['param_C'],df['mean_test_score'],'o')\n",
    "\n"
   ]
  },
  {
   "cell_type": "code",
   "execution_count": 265,
   "id": "b57edba3",
   "metadata": {},
   "outputs": [
    {
     "data": {
      "text/plain": [
       "OneVsRestClassifier(estimator=BayesSearchCV(cv=5, error_score='raise',\n",
       "                                            estimator=SVC(C=1.0, cache_size=200,\n",
       "                                                          class_weight=None,\n",
       "                                                          coef0=0.0,\n",
       "                                                          decision_function_shape='ovr',\n",
       "                                                          degree=3,\n",
       "                                                          gamma='auto_deprecated',\n",
       "                                                          kernel='linear',\n",
       "                                                          max_iter=-1,\n",
       "                                                          probability=False,\n",
       "                                                          random_state=0,\n",
       "                                                          shrinking=True,\n",
       "                                                          tol=0.001,\n",
       "                                                          verbose=3),\n",
       "                                            fit_params=None, iid=True,\n",
       "                                            n_iter=30, n_jobs=10, n_points=1,\n",
       "                                            optimizer_kwargs=None,\n",
       "                                            pre_dispatch='2*n_jobs',\n",
       "                                            random_state=0, refit=True,\n",
       "                                            return_train_score=False,\n",
       "                                            scoring='f1_macro',\n",
       "                                            search_spaces={'C': Real(low=0.1, high=10, prior='log-uniform', transform='identity')},\n",
       "                                            verbose=3),\n",
       "                    n_jobs=7)"
      ]
     },
     "execution_count": 265,
     "metadata": {},
     "output_type": "execute_result"
    }
   ],
   "source": [
    "# Each class is modeled separately.\n",
    "tmodeldef = OneVsRestClassifier(clf, n_jobs=len(labels))\n",
    "tmodeldef"
   ]
  },
  {
   "cell_type": "code",
   "execution_count": 260,
   "id": "9f032e41",
   "metadata": {},
   "outputs": [
    {
     "data": {
      "text/plain": [
       "array([[1, 0, 0, ..., 0, 0, 0],\n",
       "       [1, 0, 0, ..., 0, 0, 0],\n",
       "       [1, 0, 0, ..., 0, 0, 0],\n",
       "       ...,\n",
       "       [1, 0, 0, ..., 0, 0, 0],\n",
       "       [1, 0, 0, ..., 0, 0, 0],\n",
       "       [1, 0, 0, ..., 0, 0, 0]])"
      ]
     },
     "execution_count": 260,
     "metadata": {},
     "output_type": "execute_result"
    }
   ],
   "source": [
    "y_train_bina[:obs,:]"
   ]
  },
  {
   "cell_type": "code",
   "execution_count": 266,
   "id": "c6049afb",
   "metadata": {},
   "outputs": [
    {
     "name": "stdout",
     "output_type": "stream",
     "text": [
      "25.139787912368774\n"
     ]
    }
   ],
   "source": [
    "start = time.time()\n",
    "tmodeldef.fit(X_train_scaled[:obs,:], y_train_bina[:obs,:])\n",
    "end = time.time()\n",
    "print(end - start)"
   ]
  },
  {
   "cell_type": "code",
   "execution_count": 262,
   "id": "d23d95df",
   "metadata": {},
   "outputs": [],
   "source": [
    "# Training performance\n",
    "predictions_train = tmodeldef.predict(X_train_scaled)"
   ]
  },
  {
   "cell_type": "code",
   "execution_count": 263,
   "id": "0e38536b",
   "metadata": {},
   "outputs": [
    {
     "data": {
      "text/plain": [
       "array([[1, 0, 0, ..., 0, 0, 0],\n",
       "       [1, 0, 0, ..., 0, 0, 0],\n",
       "       [1, 0, 0, ..., 0, 0, 0],\n",
       "       ...,\n",
       "       [0, 0, 0, ..., 0, 0, 0],\n",
       "       [1, 0, 0, ..., 0, 0, 0],\n",
       "       [1, 0, 0, ..., 0, 0, 0]])"
      ]
     },
     "execution_count": 263,
     "metadata": {},
     "output_type": "execute_result"
    }
   ],
   "source": [
    "predictions_train"
   ]
  },
  {
   "cell_type": "code",
   "execution_count": 36,
   "id": "93224ae9",
   "metadata": {},
   "outputs": [
    {
     "data": {
      "text/plain": [
       "[SVC(C=1.0, cache_size=200, class_weight=None, coef0=0.0,\n",
       "     decision_function_shape='ovr', degree=3, gamma='auto_deprecated',\n",
       "     kernel='rbf', max_iter=-1, probability=False, random_state=0,\n",
       "     shrinking=True, tol=0.001, verbose=True),\n",
       " SVC(C=1.0, cache_size=200, class_weight=None, coef0=0.0,\n",
       "     decision_function_shape='ovr', degree=3, gamma='auto_deprecated',\n",
       "     kernel='rbf', max_iter=-1, probability=False, random_state=0,\n",
       "     shrinking=True, tol=0.001, verbose=True),\n",
       " SVC(C=1.0, cache_size=200, class_weight=None, coef0=0.0,\n",
       "     decision_function_shape='ovr', degree=3, gamma='auto_deprecated',\n",
       "     kernel='rbf', max_iter=-1, probability=False, random_state=0,\n",
       "     shrinking=True, tol=0.001, verbose=True),\n",
       " SVC(C=1.0, cache_size=200, class_weight=None, coef0=0.0,\n",
       "     decision_function_shape='ovr', degree=3, gamma='auto_deprecated',\n",
       "     kernel='rbf', max_iter=-1, probability=False, random_state=0,\n",
       "     shrinking=True, tol=0.001, verbose=True),\n",
       " SVC(C=1.0, cache_size=200, class_weight=None, coef0=0.0,\n",
       "     decision_function_shape='ovr', degree=3, gamma='auto_deprecated',\n",
       "     kernel='rbf', max_iter=-1, probability=False, random_state=0,\n",
       "     shrinking=True, tol=0.001, verbose=True),\n",
       " SVC(C=1.0, cache_size=200, class_weight=None, coef0=0.0,\n",
       "     decision_function_shape='ovr', degree=3, gamma='auto_deprecated',\n",
       "     kernel='rbf', max_iter=-1, probability=False, random_state=0,\n",
       "     shrinking=True, tol=0.001, verbose=True),\n",
       " SVC(C=1.0, cache_size=200, class_weight=None, coef0=0.0,\n",
       "     decision_function_shape='ovr', degree=3, gamma='auto_deprecated',\n",
       "     kernel='rbf', max_iter=-1, probability=False, random_state=0,\n",
       "     shrinking=True, tol=0.001, verbose=True)]"
      ]
     },
     "execution_count": 36,
     "metadata": {},
     "output_type": "execute_result"
    }
   ],
   "source": [
    "tmodeldef.estimators_"
   ]
  },
  {
   "cell_type": "code",
   "execution_count": 37,
   "id": "7fad117d",
   "metadata": {},
   "outputs": [
    {
     "data": {
      "text/plain": [
       "array([0, 1, 2, 3, 4, 5, 6])"
      ]
     },
     "execution_count": 37,
     "metadata": {},
     "output_type": "execute_result"
    }
   ],
   "source": [
    "tmodeldef.classes_"
   ]
  },
  {
   "cell_type": "code",
   "execution_count": 40,
   "id": "95662bf8",
   "metadata": {},
   "outputs": [
    {
     "data": {
      "text/plain": [
       "array([0, 1, 2, 3, 4, 5, 6])"
      ]
     },
     "execution_count": 40,
     "metadata": {},
     "output_type": "execute_result"
    }
   ],
   "source": [
    "tmodeldef.label_binarizer_."
   ]
  },
  {
   "cell_type": "code",
   "execution_count": 59,
   "id": "c9e1bc0b",
   "metadata": {},
   "outputs": [
    {
     "data": {
      "text/plain": [
       "background     24073\n",
       "spam           12769\n",
       "nerisbotnet      475\n",
       "dos              334\n",
       "scan             141\n",
       "sshscan           21\n",
       "udpscan            8\n",
       "Name: outcome, dtype: int64"
      ]
     },
     "execution_count": 59,
     "metadata": {},
     "output_type": "execute_result"
    }
   ],
   "source": [
    "y_train.value_counts()"
   ]
  },
  {
   "cell_type": "code",
   "execution_count": 63,
   "id": "ee849702",
   "metadata": {},
   "outputs": [
    {
     "data": {
      "text/html": [
       "<div>\n",
       "<style scoped>\n",
       "    .dataframe tbody tr th:only-of-type {\n",
       "        vertical-align: middle;\n",
       "    }\n",
       "\n",
       "    .dataframe tbody tr th {\n",
       "        vertical-align: top;\n",
       "    }\n",
       "\n",
       "    .dataframe thead th {\n",
       "        text-align: right;\n",
       "    }\n",
       "</style>\n",
       "<table border=\"1\" class=\"dataframe\">\n",
       "  <thead>\n",
       "    <tr style=\"text-align: right;\">\n",
       "      <th></th>\n",
       "      <th>srcip_default</th>\n",
       "      <th>dstip_private</th>\n",
       "      <th>sport_quote</th>\n",
       "      <th>sport_ftp_control</th>\n",
       "      <th>sport_ssh</th>\n",
       "      <th>sport_telnet</th>\n",
       "      <th>sport_smtp</th>\n",
       "      <th>sport_dns</th>\n",
       "      <th>sport_bootp</th>\n",
       "      <th>sport_finger</th>\n",
       "      <th>...</th>\n",
       "      <th>protocol_igmp</th>\n",
       "      <th>protocol_other</th>\n",
       "      <th>tcpflags_RST</th>\n",
       "      <th>tcpflags_FIN</th>\n",
       "      <th>srctos_192</th>\n",
       "      <th>srctos_other</th>\n",
       "      <th>npackets_verylow</th>\n",
       "      <th>npackets_medium</th>\n",
       "      <th>npackets_veryhigh</th>\n",
       "      <th>nbytes_high</th>\n",
       "    </tr>\n",
       "  </thead>\n",
       "  <tbody>\n",
       "    <tr>\n",
       "      <td>0</td>\n",
       "      <td>0</td>\n",
       "      <td>1</td>\n",
       "      <td>0</td>\n",
       "      <td>26</td>\n",
       "      <td>5</td>\n",
       "      <td>1</td>\n",
       "      <td>460</td>\n",
       "      <td>7409</td>\n",
       "      <td>0</td>\n",
       "      <td>0</td>\n",
       "      <td>...</td>\n",
       "      <td>0</td>\n",
       "      <td>4</td>\n",
       "      <td>1792</td>\n",
       "      <td>11143</td>\n",
       "      <td>29</td>\n",
       "      <td>1628</td>\n",
       "      <td>17556</td>\n",
       "      <td>1731</td>\n",
       "      <td>22</td>\n",
       "      <td>1453</td>\n",
       "    </tr>\n",
       "    <tr>\n",
       "      <td>1</td>\n",
       "      <td>0</td>\n",
       "      <td>30</td>\n",
       "      <td>0</td>\n",
       "      <td>122</td>\n",
       "      <td>43</td>\n",
       "      <td>35</td>\n",
       "      <td>1047</td>\n",
       "      <td>14231</td>\n",
       "      <td>0</td>\n",
       "      <td>0</td>\n",
       "      <td>...</td>\n",
       "      <td>0</td>\n",
       "      <td>61</td>\n",
       "      <td>7982</td>\n",
       "      <td>40944</td>\n",
       "      <td>154</td>\n",
       "      <td>13956</td>\n",
       "      <td>52000</td>\n",
       "      <td>6046</td>\n",
       "      <td>183</td>\n",
       "      <td>5516</td>\n",
       "    </tr>\n",
       "    <tr>\n",
       "      <td>2</td>\n",
       "      <td>0</td>\n",
       "      <td>24</td>\n",
       "      <td>0</td>\n",
       "      <td>149</td>\n",
       "      <td>93</td>\n",
       "      <td>31</td>\n",
       "      <td>973</td>\n",
       "      <td>15167</td>\n",
       "      <td>0</td>\n",
       "      <td>0</td>\n",
       "      <td>...</td>\n",
       "      <td>0</td>\n",
       "      <td>69</td>\n",
       "      <td>9247</td>\n",
       "      <td>43114</td>\n",
       "      <td>163</td>\n",
       "      <td>17190</td>\n",
       "      <td>56926</td>\n",
       "      <td>7017</td>\n",
       "      <td>207</td>\n",
       "      <td>5926</td>\n",
       "    </tr>\n",
       "    <tr>\n",
       "      <td>3</td>\n",
       "      <td>0</td>\n",
       "      <td>29</td>\n",
       "      <td>0</td>\n",
       "      <td>87</td>\n",
       "      <td>101</td>\n",
       "      <td>36</td>\n",
       "      <td>961</td>\n",
       "      <td>14702</td>\n",
       "      <td>0</td>\n",
       "      <td>0</td>\n",
       "      <td>...</td>\n",
       "      <td>0</td>\n",
       "      <td>75</td>\n",
       "      <td>8613</td>\n",
       "      <td>43040</td>\n",
       "      <td>149</td>\n",
       "      <td>16243</td>\n",
       "      <td>54994</td>\n",
       "      <td>6585</td>\n",
       "      <td>198</td>\n",
       "      <td>5729</td>\n",
       "    </tr>\n",
       "    <tr>\n",
       "      <td>4</td>\n",
       "      <td>0</td>\n",
       "      <td>25</td>\n",
       "      <td>0</td>\n",
       "      <td>84</td>\n",
       "      <td>65</td>\n",
       "      <td>38</td>\n",
       "      <td>892</td>\n",
       "      <td>15148</td>\n",
       "      <td>0</td>\n",
       "      <td>0</td>\n",
       "      <td>...</td>\n",
       "      <td>0</td>\n",
       "      <td>68</td>\n",
       "      <td>9037</td>\n",
       "      <td>42280</td>\n",
       "      <td>133</td>\n",
       "      <td>21533</td>\n",
       "      <td>60244</td>\n",
       "      <td>5947</td>\n",
       "      <td>206</td>\n",
       "      <td>5344</td>\n",
       "    </tr>\n",
       "    <tr>\n",
       "      <td>...</td>\n",
       "      <td>...</td>\n",
       "      <td>...</td>\n",
       "      <td>...</td>\n",
       "      <td>...</td>\n",
       "      <td>...</td>\n",
       "      <td>...</td>\n",
       "      <td>...</td>\n",
       "      <td>...</td>\n",
       "      <td>...</td>\n",
       "      <td>...</td>\n",
       "      <td>...</td>\n",
       "      <td>...</td>\n",
       "      <td>...</td>\n",
       "      <td>...</td>\n",
       "      <td>...</td>\n",
       "      <td>...</td>\n",
       "      <td>...</td>\n",
       "      <td>...</td>\n",
       "      <td>...</td>\n",
       "      <td>...</td>\n",
       "      <td>...</td>\n",
       "    </tr>\n",
       "    <tr>\n",
       "      <td>47270</td>\n",
       "      <td>0</td>\n",
       "      <td>25</td>\n",
       "      <td>0</td>\n",
       "      <td>332</td>\n",
       "      <td>88</td>\n",
       "      <td>48</td>\n",
       "      <td>417</td>\n",
       "      <td>10084</td>\n",
       "      <td>0</td>\n",
       "      <td>0</td>\n",
       "      <td>...</td>\n",
       "      <td>0</td>\n",
       "      <td>112</td>\n",
       "      <td>7138</td>\n",
       "      <td>36343</td>\n",
       "      <td>186</td>\n",
       "      <td>13091</td>\n",
       "      <td>49971</td>\n",
       "      <td>4737</td>\n",
       "      <td>153</td>\n",
       "      <td>3841</td>\n",
       "    </tr>\n",
       "    <tr>\n",
       "      <td>47271</td>\n",
       "      <td>0</td>\n",
       "      <td>27</td>\n",
       "      <td>0</td>\n",
       "      <td>357</td>\n",
       "      <td>119</td>\n",
       "      <td>37</td>\n",
       "      <td>367</td>\n",
       "      <td>9838</td>\n",
       "      <td>0</td>\n",
       "      <td>0</td>\n",
       "      <td>...</td>\n",
       "      <td>0</td>\n",
       "      <td>100</td>\n",
       "      <td>7254</td>\n",
       "      <td>34508</td>\n",
       "      <td>200</td>\n",
       "      <td>13245</td>\n",
       "      <td>49816</td>\n",
       "      <td>5263</td>\n",
       "      <td>130</td>\n",
       "      <td>4505</td>\n",
       "    </tr>\n",
       "    <tr>\n",
       "      <td>47272</td>\n",
       "      <td>0</td>\n",
       "      <td>29</td>\n",
       "      <td>0</td>\n",
       "      <td>374</td>\n",
       "      <td>98</td>\n",
       "      <td>39</td>\n",
       "      <td>636</td>\n",
       "      <td>9715</td>\n",
       "      <td>0</td>\n",
       "      <td>0</td>\n",
       "      <td>...</td>\n",
       "      <td>0</td>\n",
       "      <td>115</td>\n",
       "      <td>7816</td>\n",
       "      <td>35799</td>\n",
       "      <td>165</td>\n",
       "      <td>13872</td>\n",
       "      <td>51005</td>\n",
       "      <td>5087</td>\n",
       "      <td>149</td>\n",
       "      <td>4176</td>\n",
       "    </tr>\n",
       "    <tr>\n",
       "      <td>47273</td>\n",
       "      <td>0</td>\n",
       "      <td>29</td>\n",
       "      <td>0</td>\n",
       "      <td>345</td>\n",
       "      <td>93</td>\n",
       "      <td>55</td>\n",
       "      <td>639</td>\n",
       "      <td>9233</td>\n",
       "      <td>0</td>\n",
       "      <td>0</td>\n",
       "      <td>...</td>\n",
       "      <td>0</td>\n",
       "      <td>126</td>\n",
       "      <td>7102</td>\n",
       "      <td>35226</td>\n",
       "      <td>156</td>\n",
       "      <td>13452</td>\n",
       "      <td>48327</td>\n",
       "      <td>4754</td>\n",
       "      <td>195</td>\n",
       "      <td>3945</td>\n",
       "    </tr>\n",
       "    <tr>\n",
       "      <td>47274</td>\n",
       "      <td>0</td>\n",
       "      <td>22</td>\n",
       "      <td>0</td>\n",
       "      <td>248</td>\n",
       "      <td>82</td>\n",
       "      <td>26</td>\n",
       "      <td>365</td>\n",
       "      <td>6511</td>\n",
       "      <td>0</td>\n",
       "      <td>0</td>\n",
       "      <td>...</td>\n",
       "      <td>0</td>\n",
       "      <td>105</td>\n",
       "      <td>5199</td>\n",
       "      <td>25845</td>\n",
       "      <td>113</td>\n",
       "      <td>9155</td>\n",
       "      <td>34068</td>\n",
       "      <td>3364</td>\n",
       "      <td>101</td>\n",
       "      <td>2703</td>\n",
       "    </tr>\n",
       "  </tbody>\n",
       "</table>\n",
       "<p>37821 rows × 82 columns</p>\n",
       "</div>"
      ],
      "text/plain": [
       "       srcip_default  dstip_private  sport_quote  sport_ftp_control  \\\n",
       "0                  0              1            0                 26   \n",
       "1                  0             30            0                122   \n",
       "2                  0             24            0                149   \n",
       "3                  0             29            0                 87   \n",
       "4                  0             25            0                 84   \n",
       "...              ...            ...          ...                ...   \n",
       "47270              0             25            0                332   \n",
       "47271              0             27            0                357   \n",
       "47272              0             29            0                374   \n",
       "47273              0             29            0                345   \n",
       "47274              0             22            0                248   \n",
       "\n",
       "       sport_ssh  sport_telnet  sport_smtp  sport_dns  sport_bootp  \\\n",
       "0              5             1         460       7409            0   \n",
       "1             43            35        1047      14231            0   \n",
       "2             93            31         973      15167            0   \n",
       "3            101            36         961      14702            0   \n",
       "4             65            38         892      15148            0   \n",
       "...          ...           ...         ...        ...          ...   \n",
       "47270         88            48         417      10084            0   \n",
       "47271        119            37         367       9838            0   \n",
       "47272         98            39         636       9715            0   \n",
       "47273         93            55         639       9233            0   \n",
       "47274         82            26         365       6511            0   \n",
       "\n",
       "       sport_finger  ...  protocol_igmp  protocol_other  tcpflags_RST  \\\n",
       "0                 0  ...              0               4          1792   \n",
       "1                 0  ...              0              61          7982   \n",
       "2                 0  ...              0              69          9247   \n",
       "3                 0  ...              0              75          8613   \n",
       "4                 0  ...              0              68          9037   \n",
       "...             ...  ...            ...             ...           ...   \n",
       "47270             0  ...              0             112          7138   \n",
       "47271             0  ...              0             100          7254   \n",
       "47272             0  ...              0             115          7816   \n",
       "47273             0  ...              0             126          7102   \n",
       "47274             0  ...              0             105          5199   \n",
       "\n",
       "       tcpflags_FIN  srctos_192  srctos_other  npackets_verylow  \\\n",
       "0             11143          29          1628             17556   \n",
       "1             40944         154         13956             52000   \n",
       "2             43114         163         17190             56926   \n",
       "3             43040         149         16243             54994   \n",
       "4             42280         133         21533             60244   \n",
       "...             ...         ...           ...               ...   \n",
       "47270         36343         186         13091             49971   \n",
       "47271         34508         200         13245             49816   \n",
       "47272         35799         165         13872             51005   \n",
       "47273         35226         156         13452             48327   \n",
       "47274         25845         113          9155             34068   \n",
       "\n",
       "       npackets_medium  npackets_veryhigh  nbytes_high  \n",
       "0                 1731                 22         1453  \n",
       "1                 6046                183         5516  \n",
       "2                 7017                207         5926  \n",
       "3                 6585                198         5729  \n",
       "4                 5947                206         5344  \n",
       "...                ...                ...          ...  \n",
       "47270             4737                153         3841  \n",
       "47271             5263                130         4505  \n",
       "47272             5087                149         4176  \n",
       "47273             4754                195         3945  \n",
       "47274             3364                101         2703  \n",
       "\n",
       "[37821 rows x 82 columns]"
      ]
     },
     "execution_count": 63,
     "metadata": {},
     "output_type": "execute_result"
    }
   ],
   "source": [
    "X_train"
   ]
  },
  {
   "cell_type": "code",
   "execution_count": null,
   "id": "67c39f6c",
   "metadata": {},
   "outputs": [],
   "source": []
  }
 ],
 "metadata": {
  "kernelspec": {
   "display_name": "attackclass",
   "language": "python",
   "name": "attackclass"
  },
  "language_info": {
   "codemirror_mode": {
    "name": "ipython",
    "version": 3
   },
   "file_extension": ".py",
   "mimetype": "text/x-python",
   "name": "python",
   "nbconvert_exporter": "python",
   "pygments_lexer": "ipython3",
   "version": "3.8.8"
  }
 },
 "nbformat": 4,
 "nbformat_minor": 5
}
