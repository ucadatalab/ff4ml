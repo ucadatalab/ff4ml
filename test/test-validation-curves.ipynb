{
 "cells": [
  {
   "cell_type": "code",
   "execution_count": 18,
   "id": "b7ad4aa0",
   "metadata": {},
   "outputs": [],
   "source": [
    "import yaml\n",
    "yaml.warnings({'YAMLLoadWarning': False})\n",
    "import pandas as pd\n",
    "from sklearn.preprocessing import label_binarize\n",
    "from sklearn.preprocessing import StandardScaler\n",
    "from sklearn.multiclass import OneVsRestClassifier\n",
    "from sklearn.model_selection import validation_curve\n",
    "from sklearn.svm import SVC\n",
    "from skopt import BayesSearchCV\n",
    "from skopt.space import Real, Integer\n",
    "import numpy as np\n",
    "import warnings\n",
    "warnings.filterwarnings('ignore')\n"
   ]
  },
  {
   "cell_type": "code",
   "execution_count": 19,
   "id": "c362ea54",
   "metadata": {},
   "outputs": [],
   "source": [
    "# Configuration parameters\n",
    "config_file = \"../config/config_simple_ugr16.yaml\"\n",
    "model = \"svc\"\n",
    "rep = 1\n",
    "kfold = 2"
   ]
  },
  {
   "cell_type": "code",
   "execution_count": 20,
   "id": "5388cc62",
   "metadata": {},
   "outputs": [],
   "source": [
    "def load_config(path_to_config_file):\n",
    "    \"\"\"\n",
    "        Load config file\n",
    "\n",
    "        Parameters\n",
    "        ----------\n",
    "        path_to_config_file: str\n",
    "            Path to *.yaml file\n",
    "\n",
    "        Return\n",
    "        ------\n",
    "        configuration:\n",
    "            The yaml file loaded\n",
    "\n",
    "        Raise\n",
    "        -----\n",
    "        e: Exception\n",
    "             If something was wrong.\n",
    "\n",
    "\n",
    "    \"\"\"\n",
    "    try:\n",
    "        with open(path_to_config_file) as f:\n",
    "            configuration = yaml.load(f)\n",
    "    except Exception as e:\n",
    "        print(\"There was an ERROR loading the configuration file: \" + path_to_config_file)\n",
    "        raise e\n",
    "\n",
    "    return configuration"
   ]
  },
  {
   "cell_type": "code",
   "execution_count": 21,
   "id": "d7df7aed",
   "metadata": {},
   "outputs": [],
   "source": [
    "# load configuration\n",
    "config = load_config(config_file)"
   ]
  },
  {
   "cell_type": "code",
   "execution_count": 22,
   "id": "956896a2",
   "metadata": {},
   "outputs": [],
   "source": [
    "# Data root path\n",
    "root_path = config['folder_paths']['root_path']\n",
    "# Reading dataset and aux files for selecting folds and reps and for getting variable selection.\n",
    "mc_file = config['file_paths']['mc_file']\n",
    "mcfold_file = config['file_paths']['mcfold_file']\n",
    "mcvars_file = config['file_paths']['mcvars_file']\n",
    "\n",
    "df = pd.read_csv(root_path + mc_file)\n",
    "df_folds = pd.read_csv(root_path + mcfold_file)\n",
    "df_vars = pd.read_csv(root_path + mcvars_file)"
   ]
  },
  {
   "cell_type": "code",
   "execution_count": 23,
   "id": "771f7655",
   "metadata": {},
   "outputs": [
    {
     "data": {
      "text/plain": [
       "((47275, 145), (47275, 20), (100, 136))"
      ]
     },
     "execution_count": 23,
     "metadata": {},
     "output_type": "execute_result"
    }
   ],
   "source": [
    "df.shape, df_folds.shape, df_vars.shape"
   ]
  },
  {
   "cell_type": "code",
   "execution_count": 24,
   "id": "27e0d6de",
   "metadata": {},
   "outputs": [],
   "source": [
    "# Feature selection\n",
    "d = (df_vars.groupby('repeticion').groups[rep]) & (df_vars.groupby('caja.de.test').groups[kfold])\n",
    "\n",
    "size = df_vars.shape[1]\n",
    "f = ['']\n",
    "\n",
    "for i in range(1, size):\n",
    "    if int(df_vars.iloc[d, i]) == 1:\n",
    "        f.append(df_vars.iloc[d, i].name)\n",
    "\n",
    "f.remove(\"\")\n",
    "if kfold == 1:\n",
    "    f.remove(\"caja.de.test\")"
   ]
  },
  {
   "cell_type": "code",
   "execution_count": 25,
   "id": "8ecb90d0",
   "metadata": {},
   "outputs": [],
   "source": [
    "# Applying feature selection and outcome \n",
    "X = df[f]\n",
    "y = df['outcome']"
   ]
  },
  {
   "cell_type": "code",
   "execution_count": 26,
   "id": "d59dce90",
   "metadata": {},
   "outputs": [],
   "source": [
    "df_no_labels = df.iloc[:,1:-10] # Removing ts and labels columns. "
   ]
  },
  {
   "cell_type": "code",
   "execution_count": 27,
   "id": "876abf61",
   "metadata": {},
   "outputs": [
    {
     "name": "stdout",
     "output_type": "stream",
     "text": [
      "82 chosen variables from 134\n"
     ]
    }
   ],
   "source": [
    "print(\"{0} chosen variables from {1}\".format(len(f),df_no_labels.shape[1]))"
   ]
  },
  {
   "cell_type": "code",
   "execution_count": 28,
   "id": "bdf164b7",
   "metadata": {},
   "outputs": [],
   "source": [
    "# Making TRAINING and TEST datasets according to the number of fold\n",
    "\n",
    "group = 'REP.' + str(rep)\n",
    "rows_fold = df_folds.iloc[df_folds.groupby(group).groups[kfold]].index\n",
    "No_rows_fold = df_folds[df_folds[group] != kfold][group].index\n",
    "\n",
    "# Getting labels from config file\n",
    "\n",
    "labels = config['labels']\n",
    "\n",
    "# Data TRAIN and LABEL\n",
    "\n",
    "X_train = X.drop(X.index[rows_fold])\n",
    "y_train = y.drop(y.index[rows_fold])\n",
    "y_train_bina = label_binarize(y_train, classes=labels)\n",
    "\n",
    "# Data TEST and LABEL\n",
    "\n",
    "X_test = X.drop(X.index[No_rows_fold])\n",
    "y_test = y.drop(y.index[No_rows_fold])\n",
    "y_test_bina = label_binarize(y_test, classes=labels)\n",
    "\n",
    "# Data normalization\n",
    "X_train_scaled = StandardScaler().fit_transform(X_train)\n",
    "X_test_scaled = StandardScaler().fit_transform(X_test)"
   ]
  },
  {
   "cell_type": "code",
   "execution_count": 29,
   "id": "3b9e370e",
   "metadata": {},
   "outputs": [],
   "source": [
    "parameters = {'C': Real(config['models']['svc']['hyperparameters']['C'][0],\n",
    "                      config['models']['svc']['hyperparameters']['C'][1],\n",
    "                      prior='log-uniform')}\n",
    "\n",
    "# Adding gamma when SVC kernel is rbf\n",
    "if config['models']['svc']['hyperparameters']['kernel'] == 'rbf':\n",
    "    parameters['gamma'] = Real(config['models']['svc']['hyperparameters']['gamma'][0],\n",
    "                               config['models']['svc']['hyperparameters']['gamma'][1],\n",
    "                               prior='log-uniform')\n",
    "\n",
    "model_grid = SVC(random_state=config['models']['svc']['general']['random_state'],\n",
    "                 kernel = config['models']['svc']['hyperparameters']['kernel'], verbose=3)"
   ]
  },
  {
   "cell_type": "code",
   "execution_count": 30,
   "id": "5fe5c079",
   "metadata": {},
   "outputs": [
    {
     "data": {
      "text/plain": [
       "SVC(C=1.0, cache_size=200, class_weight=None, coef0=0.0,\n",
       "    decision_function_shape='ovr', degree=3, gamma='auto_deprecated',\n",
       "    kernel='linear', max_iter=-1, probability=False, random_state=0,\n",
       "    shrinking=True, tol=0.001, verbose=3)"
      ]
     },
     "execution_count": 30,
     "metadata": {},
     "output_type": "execute_result"
    }
   ],
   "source": [
    "model_grid"
   ]
  },
  {
   "cell_type": "markdown",
   "id": "958c333d",
   "metadata": {},
   "source": [
    "### Validation curves"
   ]
  },
  {
   "cell_type": "code",
   "execution_count": 72,
   "id": "26b2700f",
   "metadata": {},
   "outputs": [],
   "source": [
    "param_range = np.linspace(0.1,\n",
    "                  100,num=10)"
   ]
  },
  {
   "cell_type": "code",
   "execution_count": 73,
   "id": "a9e130bf",
   "metadata": {},
   "outputs": [
    {
     "data": {
      "text/plain": [
       "array([  0.1,  11.2,  22.3,  33.4,  44.5,  55.6,  66.7,  77.8,  88.9,\n",
       "       100. ])"
      ]
     },
     "execution_count": 73,
     "metadata": {},
     "output_type": "execute_result"
    }
   ],
   "source": [
    "param_range"
   ]
  },
  {
   "cell_type": "code",
   "execution_count": 60,
   "id": "49af32b4",
   "metadata": {},
   "outputs": [
    {
     "data": {
      "text/plain": [
       "1e+100"
      ]
     },
     "execution_count": 60,
     "metadata": {},
     "output_type": "execute_result"
    }
   ],
   "source": [
    "1e100"
   ]
  },
  {
   "cell_type": "code",
   "execution_count": 65,
   "id": "0aee7ae1",
   "metadata": {},
   "outputs": [
    {
     "name": "stderr",
     "output_type": "stream",
     "text": [
      "[Parallel(n_jobs=10)]: Using backend LokyBackend with 10 concurrent workers.\n"
     ]
    },
    {
     "ename": "KeyboardInterrupt",
     "evalue": "",
     "output_type": "error",
     "traceback": [
      "\u001b[0;31m---------------------------------------------------------------------------\u001b[0m",
      "\u001b[0;31mKeyboardInterrupt\u001b[0m                         Traceback (most recent call last)",
      "\u001b[0;32m<ipython-input-65-2fa417f99679>\u001b[0m in \u001b[0;36m<module>\u001b[0;34m\u001b[0m\n\u001b[0;32m----> 1\u001b[0;31m train_scores, test_scores = validation_curve(\n\u001b[0m\u001b[1;32m      2\u001b[0m     \u001b[0mmodel_grid\u001b[0m\u001b[0;34m,\u001b[0m \u001b[0mX_train_scaled\u001b[0m\u001b[0;34m,\u001b[0m \u001b[0my_train\u001b[0m\u001b[0;34m,\u001b[0m \u001b[0mparam_name\u001b[0m\u001b[0;34m=\u001b[0m\u001b[0;34m\"C\"\u001b[0m\u001b[0;34m,\u001b[0m \u001b[0mparam_range\u001b[0m\u001b[0;34m=\u001b[0m\u001b[0mparam_range\u001b[0m\u001b[0;34m,\u001b[0m\u001b[0;34m\u001b[0m\u001b[0;34m\u001b[0m\u001b[0m\n\u001b[1;32m      3\u001b[0m     scoring=\"f1_macro\", n_jobs=10, cv=5, verbose=True)\n",
      "\u001b[0;32m~/miniconda3/envs/attackclass/lib/python3.8/site-packages/sklearn/model_selection/_validation.py\u001b[0m in \u001b[0;36mvalidation_curve\u001b[0;34m(estimator, X, y, param_name, param_range, groups, cv, scoring, n_jobs, pre_dispatch, verbose, error_score)\u001b[0m\n\u001b[1;32m   1491\u001b[0m     parallel = Parallel(n_jobs=n_jobs, pre_dispatch=pre_dispatch,\n\u001b[1;32m   1492\u001b[0m                         verbose=verbose)\n\u001b[0;32m-> 1493\u001b[0;31m     out = parallel(delayed(_fit_and_score)(\n\u001b[0m\u001b[1;32m   1494\u001b[0m         \u001b[0mclone\u001b[0m\u001b[0;34m(\u001b[0m\u001b[0mestimator\u001b[0m\u001b[0;34m)\u001b[0m\u001b[0;34m,\u001b[0m \u001b[0mX\u001b[0m\u001b[0;34m,\u001b[0m \u001b[0my\u001b[0m\u001b[0;34m,\u001b[0m \u001b[0mscorer\u001b[0m\u001b[0;34m,\u001b[0m \u001b[0mtrain\u001b[0m\u001b[0;34m,\u001b[0m \u001b[0mtest\u001b[0m\u001b[0;34m,\u001b[0m \u001b[0mverbose\u001b[0m\u001b[0;34m,\u001b[0m\u001b[0;34m\u001b[0m\u001b[0;34m\u001b[0m\u001b[0m\n\u001b[1;32m   1495\u001b[0m         \u001b[0mparameters\u001b[0m\u001b[0;34m=\u001b[0m\u001b[0;34m{\u001b[0m\u001b[0mparam_name\u001b[0m\u001b[0;34m:\u001b[0m \u001b[0mv\u001b[0m\u001b[0;34m}\u001b[0m\u001b[0;34m,\u001b[0m \u001b[0mfit_params\u001b[0m\u001b[0;34m=\u001b[0m\u001b[0;32mNone\u001b[0m\u001b[0;34m,\u001b[0m \u001b[0mreturn_train_score\u001b[0m\u001b[0;34m=\u001b[0m\u001b[0;32mTrue\u001b[0m\u001b[0;34m,\u001b[0m\u001b[0;34m\u001b[0m\u001b[0;34m\u001b[0m\u001b[0m\n",
      "\u001b[0;32m~/miniconda3/envs/attackclass/lib/python3.8/site-packages/joblib/parallel.py\u001b[0m in \u001b[0;36m__call__\u001b[0;34m(self, iterable)\u001b[0m\n\u001b[1;32m   1052\u001b[0m \u001b[0;34m\u001b[0m\u001b[0m\n\u001b[1;32m   1053\u001b[0m             \u001b[0;32mwith\u001b[0m \u001b[0mself\u001b[0m\u001b[0;34m.\u001b[0m\u001b[0m_backend\u001b[0m\u001b[0;34m.\u001b[0m\u001b[0mretrieval_context\u001b[0m\u001b[0;34m(\u001b[0m\u001b[0;34m)\u001b[0m\u001b[0;34m:\u001b[0m\u001b[0;34m\u001b[0m\u001b[0;34m\u001b[0m\u001b[0m\n\u001b[0;32m-> 1054\u001b[0;31m                 \u001b[0mself\u001b[0m\u001b[0;34m.\u001b[0m\u001b[0mretrieve\u001b[0m\u001b[0;34m(\u001b[0m\u001b[0;34m)\u001b[0m\u001b[0;34m\u001b[0m\u001b[0;34m\u001b[0m\u001b[0m\n\u001b[0m\u001b[1;32m   1055\u001b[0m             \u001b[0;31m# Make sure that we get a last message telling us we are done\u001b[0m\u001b[0;34m\u001b[0m\u001b[0;34m\u001b[0m\u001b[0;34m\u001b[0m\u001b[0m\n\u001b[1;32m   1056\u001b[0m             \u001b[0melapsed_time\u001b[0m \u001b[0;34m=\u001b[0m \u001b[0mtime\u001b[0m\u001b[0;34m.\u001b[0m\u001b[0mtime\u001b[0m\u001b[0;34m(\u001b[0m\u001b[0;34m)\u001b[0m \u001b[0;34m-\u001b[0m \u001b[0mself\u001b[0m\u001b[0;34m.\u001b[0m\u001b[0m_start_time\u001b[0m\u001b[0;34m\u001b[0m\u001b[0;34m\u001b[0m\u001b[0m\n",
      "\u001b[0;32m~/miniconda3/envs/attackclass/lib/python3.8/site-packages/joblib/parallel.py\u001b[0m in \u001b[0;36mretrieve\u001b[0;34m(self)\u001b[0m\n\u001b[1;32m    931\u001b[0m             \u001b[0;32mtry\u001b[0m\u001b[0;34m:\u001b[0m\u001b[0;34m\u001b[0m\u001b[0;34m\u001b[0m\u001b[0m\n\u001b[1;32m    932\u001b[0m                 \u001b[0;32mif\u001b[0m \u001b[0mgetattr\u001b[0m\u001b[0;34m(\u001b[0m\u001b[0mself\u001b[0m\u001b[0;34m.\u001b[0m\u001b[0m_backend\u001b[0m\u001b[0;34m,\u001b[0m \u001b[0;34m'supports_timeout'\u001b[0m\u001b[0;34m,\u001b[0m \u001b[0;32mFalse\u001b[0m\u001b[0;34m)\u001b[0m\u001b[0;34m:\u001b[0m\u001b[0;34m\u001b[0m\u001b[0;34m\u001b[0m\u001b[0m\n\u001b[0;32m--> 933\u001b[0;31m                     \u001b[0mself\u001b[0m\u001b[0;34m.\u001b[0m\u001b[0m_output\u001b[0m\u001b[0;34m.\u001b[0m\u001b[0mextend\u001b[0m\u001b[0;34m(\u001b[0m\u001b[0mjob\u001b[0m\u001b[0;34m.\u001b[0m\u001b[0mget\u001b[0m\u001b[0;34m(\u001b[0m\u001b[0mtimeout\u001b[0m\u001b[0;34m=\u001b[0m\u001b[0mself\u001b[0m\u001b[0;34m.\u001b[0m\u001b[0mtimeout\u001b[0m\u001b[0;34m)\u001b[0m\u001b[0;34m)\u001b[0m\u001b[0;34m\u001b[0m\u001b[0;34m\u001b[0m\u001b[0m\n\u001b[0m\u001b[1;32m    934\u001b[0m                 \u001b[0;32melse\u001b[0m\u001b[0;34m:\u001b[0m\u001b[0;34m\u001b[0m\u001b[0;34m\u001b[0m\u001b[0m\n\u001b[1;32m    935\u001b[0m                     \u001b[0mself\u001b[0m\u001b[0;34m.\u001b[0m\u001b[0m_output\u001b[0m\u001b[0;34m.\u001b[0m\u001b[0mextend\u001b[0m\u001b[0;34m(\u001b[0m\u001b[0mjob\u001b[0m\u001b[0;34m.\u001b[0m\u001b[0mget\u001b[0m\u001b[0;34m(\u001b[0m\u001b[0;34m)\u001b[0m\u001b[0;34m)\u001b[0m\u001b[0;34m\u001b[0m\u001b[0;34m\u001b[0m\u001b[0m\n",
      "\u001b[0;32m~/miniconda3/envs/attackclass/lib/python3.8/site-packages/joblib/_parallel_backends.py\u001b[0m in \u001b[0;36mwrap_future_result\u001b[0;34m(future, timeout)\u001b[0m\n\u001b[1;32m    540\u001b[0m         AsyncResults.get from multiprocessing.\"\"\"\n\u001b[1;32m    541\u001b[0m         \u001b[0;32mtry\u001b[0m\u001b[0;34m:\u001b[0m\u001b[0;34m\u001b[0m\u001b[0;34m\u001b[0m\u001b[0m\n\u001b[0;32m--> 542\u001b[0;31m             \u001b[0;32mreturn\u001b[0m \u001b[0mfuture\u001b[0m\u001b[0;34m.\u001b[0m\u001b[0mresult\u001b[0m\u001b[0;34m(\u001b[0m\u001b[0mtimeout\u001b[0m\u001b[0;34m=\u001b[0m\u001b[0mtimeout\u001b[0m\u001b[0;34m)\u001b[0m\u001b[0;34m\u001b[0m\u001b[0;34m\u001b[0m\u001b[0m\n\u001b[0m\u001b[1;32m    543\u001b[0m         \u001b[0;32mexcept\u001b[0m \u001b[0mCfTimeoutError\u001b[0m \u001b[0;32mas\u001b[0m \u001b[0me\u001b[0m\u001b[0;34m:\u001b[0m\u001b[0;34m\u001b[0m\u001b[0;34m\u001b[0m\u001b[0m\n\u001b[1;32m    544\u001b[0m             \u001b[0;32mraise\u001b[0m \u001b[0mTimeoutError\u001b[0m \u001b[0;32mfrom\u001b[0m \u001b[0me\u001b[0m\u001b[0;34m\u001b[0m\u001b[0;34m\u001b[0m\u001b[0m\n",
      "\u001b[0;32m~/miniconda3/envs/attackclass/lib/python3.8/concurrent/futures/_base.py\u001b[0m in \u001b[0;36mresult\u001b[0;34m(self, timeout)\u001b[0m\n\u001b[1;32m    432\u001b[0m                 \u001b[0;32mreturn\u001b[0m \u001b[0mself\u001b[0m\u001b[0;34m.\u001b[0m\u001b[0m__get_result\u001b[0m\u001b[0;34m(\u001b[0m\u001b[0;34m)\u001b[0m\u001b[0;34m\u001b[0m\u001b[0;34m\u001b[0m\u001b[0m\n\u001b[1;32m    433\u001b[0m \u001b[0;34m\u001b[0m\u001b[0m\n\u001b[0;32m--> 434\u001b[0;31m             \u001b[0mself\u001b[0m\u001b[0;34m.\u001b[0m\u001b[0m_condition\u001b[0m\u001b[0;34m.\u001b[0m\u001b[0mwait\u001b[0m\u001b[0;34m(\u001b[0m\u001b[0mtimeout\u001b[0m\u001b[0;34m)\u001b[0m\u001b[0;34m\u001b[0m\u001b[0;34m\u001b[0m\u001b[0m\n\u001b[0m\u001b[1;32m    435\u001b[0m \u001b[0;34m\u001b[0m\u001b[0m\n\u001b[1;32m    436\u001b[0m             \u001b[0;32mif\u001b[0m \u001b[0mself\u001b[0m\u001b[0;34m.\u001b[0m\u001b[0m_state\u001b[0m \u001b[0;32min\u001b[0m \u001b[0;34m[\u001b[0m\u001b[0mCANCELLED\u001b[0m\u001b[0;34m,\u001b[0m \u001b[0mCANCELLED_AND_NOTIFIED\u001b[0m\u001b[0;34m]\u001b[0m\u001b[0;34m:\u001b[0m\u001b[0;34m\u001b[0m\u001b[0;34m\u001b[0m\u001b[0m\n",
      "\u001b[0;32m~/miniconda3/envs/attackclass/lib/python3.8/threading.py\u001b[0m in \u001b[0;36mwait\u001b[0;34m(self, timeout)\u001b[0m\n\u001b[1;32m    300\u001b[0m         \u001b[0;32mtry\u001b[0m\u001b[0;34m:\u001b[0m    \u001b[0;31m# restore state no matter what (e.g., KeyboardInterrupt)\u001b[0m\u001b[0;34m\u001b[0m\u001b[0;34m\u001b[0m\u001b[0m\n\u001b[1;32m    301\u001b[0m             \u001b[0;32mif\u001b[0m \u001b[0mtimeout\u001b[0m \u001b[0;32mis\u001b[0m \u001b[0;32mNone\u001b[0m\u001b[0;34m:\u001b[0m\u001b[0;34m\u001b[0m\u001b[0;34m\u001b[0m\u001b[0m\n\u001b[0;32m--> 302\u001b[0;31m                 \u001b[0mwaiter\u001b[0m\u001b[0;34m.\u001b[0m\u001b[0macquire\u001b[0m\u001b[0;34m(\u001b[0m\u001b[0;34m)\u001b[0m\u001b[0;34m\u001b[0m\u001b[0;34m\u001b[0m\u001b[0m\n\u001b[0m\u001b[1;32m    303\u001b[0m                 \u001b[0mgotit\u001b[0m \u001b[0;34m=\u001b[0m \u001b[0;32mTrue\u001b[0m\u001b[0;34m\u001b[0m\u001b[0;34m\u001b[0m\u001b[0m\n\u001b[1;32m    304\u001b[0m             \u001b[0;32melse\u001b[0m\u001b[0;34m:\u001b[0m\u001b[0;34m\u001b[0m\u001b[0;34m\u001b[0m\u001b[0m\n",
      "\u001b[0;31mKeyboardInterrupt\u001b[0m: "
     ]
    }
   ],
   "source": [
    "train_scores, test_scores = validation_curve(\n",
    "    model_grid, X_train_scaled, y_train, param_name=\"C\", param_range=param_range,\n",
    "    scoring=\"f1_macro\", n_jobs=10, cv=5, verbose=True)"
   ]
  },
  {
   "cell_type": "code",
   "execution_count": 64,
   "id": "52d64cdd",
   "metadata": {},
   "outputs": [
    {
     "data": {
      "text/plain": [
       "array([[0.83544704, 0.81905195, 0.82899391, 0.81539018, 0.82913729],\n",
       "       [0.83791447, 0.8206836 , 0.83306248, 0.81760779, 0.83069079],\n",
       "       [0.83884953, 0.8214854 , 0.83371891, 0.81811577, 0.83092803],\n",
       "       [0.83919843, 0.82148706, 0.83390437, 0.81847976, 0.83088306],\n",
       "       [0.83936545, 0.82201606, 0.83416757, 0.81859958, 0.8308769 ]])"
      ]
     },
     "execution_count": 64,
     "metadata": {},
     "output_type": "execute_result"
    }
   ],
   "source": [
    "train_scores"
   ]
  },
  {
   "cell_type": "code",
   "execution_count": 62,
   "id": "bac81393",
   "metadata": {},
   "outputs": [
    {
     "data": {
      "text/plain": [
       "array([0.7387301 , 0.73968011, 0.73961101, 0.73902893, 0.73895346])"
      ]
     },
     "execution_count": 62,
     "metadata": {},
     "output_type": "execute_result"
    }
   ],
   "source": [
    "test_scores.mean(axis=1)"
   ]
  },
  {
   "cell_type": "code",
   "execution_count": 53,
   "id": "9318da45",
   "metadata": {},
   "outputs": [
    {
     "data": {
      "text/plain": [
       "array([0.03621993, 0.03751302, 0.03691133, 0.03646435, 0.03682678])"
      ]
     },
     "execution_count": 53,
     "metadata": {},
     "output_type": "execute_result"
    }
   ],
   "source": [
    "test_scores.std(axis=1)"
   ]
  },
  {
   "cell_type": "code",
   "execution_count": 63,
   "id": "3556f154",
   "metadata": {},
   "outputs": [],
   "source": [
    "clf = BayesSearchCV(model_grid, parameters,\n",
    "                            n_iter= config['hyper_bayesian']['n_iter'],\n",
    "                            verbose=3,\n",
    "                            n_jobs= config['hyper_bayesian']['n_jobs'],\n",
    "                            cv = config['hyper_bayesian']['cv'],\n",
    "                            n_points = config['hyper_bayesian']['n_points'],\n",
    "                            scoring = config['hyper_bayesian']['scoring'],\n",
    "                            random_state = config['hyper_bayesian']['random_state'])"
   ]
  },
  {
   "cell_type": "code",
   "execution_count": 64,
   "id": "a5e6821a",
   "metadata": {},
   "outputs": [
    {
     "data": {
      "text/plain": [
       "BayesSearchCV(cv=5, error_score='raise',\n",
       "              estimator=SVC(C=1.0, cache_size=200, class_weight=None, coef0=0.0,\n",
       "                            decision_function_shape='ovr', degree=3,\n",
       "                            gamma='auto_deprecated', kernel='linear',\n",
       "                            max_iter=-1, probability=False, random_state=0,\n",
       "                            shrinking=True, tol=0.001, verbose=3),\n",
       "              fit_params=None, iid=True, n_iter=1, n_jobs=10, n_points=1,\n",
       "              optimizer_kwargs=None, pre_dispatch='2*n_jobs', random_state=0,\n",
       "              refit=True, return_train_score=False, scoring='f1_macro',\n",
       "              search_spaces={'C': Real(low=0.1, high=100, prior='log-uniform', transform='identity')},\n",
       "              verbose=3)"
      ]
     },
     "execution_count": 64,
     "metadata": {},
     "output_type": "execute_result"
    }
   ],
   "source": [
    "clf"
   ]
  },
  {
   "cell_type": "code",
   "execution_count": 45,
   "id": "9786ff27",
   "metadata": {},
   "outputs": [
    {
     "name": "stdout",
     "output_type": "stream",
     "text": [
      "Fitting 5 folds for each of 1 candidates, totalling 5 fits\n"
     ]
    },
    {
     "name": "stderr",
     "output_type": "stream",
     "text": [
      "[Parallel(n_jobs=10)]: Using backend LokyBackend with 10 concurrent workers.\n",
      "[Parallel(n_jobs=10)]: Done   2 out of   5 | elapsed: 16.2min remaining: 24.3min\n",
      "[Parallel(n_jobs=10)]: Done   5 out of   5 | elapsed: 17.2min finished\n"
     ]
    },
    {
     "name": "stdout",
     "output_type": "stream",
     "text": [
      "[LibSVM]2835.747947692871\n"
     ]
    }
   ],
   "source": [
    "# C=[0.1,100]\n",
    "#obs = 40000\n",
    "#clf.fit(X_train_scaled[:obs,:], y_train[:obs])\n",
    "import time\n",
    "start = time.time()\n",
    "clf.fit(X_train_scaled, y_train)\n",
    "end = time.time()\n",
    "print(end - start)"
   ]
  },
  {
   "cell_type": "code",
   "execution_count": 49,
   "id": "b32b12d0",
   "metadata": {},
   "outputs": [
    {
     "data": {
      "text/plain": [
       "23.625"
      ]
     },
     "execution_count": 49,
     "metadata": {},
     "output_type": "execute_result"
    }
   ],
   "source": [
    "# C=[0.1, 100]\n",
    "(2835/60*30)/60"
   ]
  },
  {
   "cell_type": "code",
   "execution_count": 46,
   "id": "1a5393ba",
   "metadata": {},
   "outputs": [
    {
     "data": {
      "text/html": [
       "<div>\n",
       "<style scoped>\n",
       "    .dataframe tbody tr th:only-of-type {\n",
       "        vertical-align: middle;\n",
       "    }\n",
       "\n",
       "    .dataframe tbody tr th {\n",
       "        vertical-align: top;\n",
       "    }\n",
       "\n",
       "    .dataframe thead th {\n",
       "        text-align: right;\n",
       "    }\n",
       "</style>\n",
       "<table border=\"1\" class=\"dataframe\">\n",
       "  <thead>\n",
       "    <tr style=\"text-align: right;\">\n",
       "      <th></th>\n",
       "      <th>split0_test_score</th>\n",
       "      <th>split1_test_score</th>\n",
       "      <th>split2_test_score</th>\n",
       "      <th>split3_test_score</th>\n",
       "      <th>split4_test_score</th>\n",
       "      <th>mean_test_score</th>\n",
       "      <th>std_test_score</th>\n",
       "      <th>rank_test_score</th>\n",
       "      <th>mean_fit_time</th>\n",
       "      <th>std_fit_time</th>\n",
       "      <th>mean_score_time</th>\n",
       "      <th>std_score_time</th>\n",
       "      <th>param_C</th>\n",
       "      <th>params</th>\n",
       "    </tr>\n",
       "  </thead>\n",
       "  <tbody>\n",
       "    <tr>\n",
       "      <th>0</th>\n",
       "      <td>0.767279</td>\n",
       "      <td>0.792597</td>\n",
       "      <td>0.67733</td>\n",
       "      <td>0.751157</td>\n",
       "      <td>0.736543</td>\n",
       "      <td>0.744983</td>\n",
       "      <td>0.038604</td>\n",
       "      <td>1</td>\n",
       "      <td>989.365856</td>\n",
       "      <td>29.802487</td>\n",
       "      <td>10.215385</td>\n",
       "      <td>0.393633</td>\n",
       "      <td>3.916449</td>\n",
       "      <td>{'C': 3.916449174261764}</td>\n",
       "    </tr>\n",
       "  </tbody>\n",
       "</table>\n",
       "</div>"
      ],
      "text/plain": [
       "   split0_test_score  split1_test_score  split2_test_score  split3_test_score  \\\n",
       "0           0.767279           0.792597            0.67733           0.751157   \n",
       "\n",
       "   split4_test_score  mean_test_score  std_test_score  rank_test_score  \\\n",
       "0           0.736543         0.744983        0.038604                1   \n",
       "\n",
       "   mean_fit_time  std_fit_time  mean_score_time  std_score_time   param_C  \\\n",
       "0     989.365856     29.802487        10.215385        0.393633  3.916449   \n",
       "\n",
       "                     params  \n",
       "0  {'C': 3.916449174261764}  "
      ]
     },
     "execution_count": 46,
     "metadata": {},
     "output_type": "execute_result"
    }
   ],
   "source": [
    "pd.DataFrame(clf.cv_results_)"
   ]
  },
  {
   "cell_type": "code",
   "execution_count": null,
   "id": "52f8667e",
   "metadata": {},
   "outputs": [],
   "source": [
    "# C=[0.1,100]\n",
    "#obs = 40000\n",
    "#clf.fit(X_train_scaled[:obs,:], y_train[:obs])\n",
    "import time\n",
    "start = time.time()\n",
    "clf.fit(X_train_scaled, y_train)\n",
    "end = time.time()\n",
    "print(end - start)"
   ]
  },
  {
   "cell_type": "code",
   "execution_count": 17,
   "id": "326c3665",
   "metadata": {},
   "outputs": [
    {
     "data": {
      "text/plain": [
       "(10000, 82)"
      ]
     },
     "execution_count": 17,
     "metadata": {},
     "output_type": "execute_result"
    }
   ],
   "source": [
    "X_train_scaled[:10000,:]"
   ]
  },
  {
   "cell_type": "code",
   "execution_count": 29,
   "id": "b57edba3",
   "metadata": {},
   "outputs": [
    {
     "data": {
      "text/plain": [
       "OneVsRestClassifier(estimator=SVC(C=1.0, cache_size=200, class_weight=None,\n",
       "                                  coef0=0.0, decision_function_shape='ovr',\n",
       "                                  degree=3, gamma='auto_deprecated',\n",
       "                                  kernel='rbf', max_iter=-1, probability=False,\n",
       "                                  random_state=0, shrinking=True, tol=0.001,\n",
       "                                  verbose=True),\n",
       "                    n_jobs=7)"
      ]
     },
     "execution_count": 29,
     "metadata": {},
     "output_type": "execute_result"
    }
   ],
   "source": [
    "# Each class is modeled separately.\n",
    "tmodeldef = OneVsRestClassifier(model_grid, n_jobs=len(labels))\n",
    "tmodeldef"
   ]
  },
  {
   "cell_type": "code",
   "execution_count": 30,
   "id": "c6049afb",
   "metadata": {},
   "outputs": [
    {
     "data": {
      "text/plain": [
       "OneVsRestClassifier(estimator=SVC(C=1.0, cache_size=200, class_weight=None,\n",
       "                                  coef0=0.0, decision_function_shape='ovr',\n",
       "                                  degree=3, gamma='auto_deprecated',\n",
       "                                  kernel='rbf', max_iter=-1, probability=False,\n",
       "                                  random_state=0, shrinking=True, tol=0.001,\n",
       "                                  verbose=True),\n",
       "                    n_jobs=7)"
      ]
     },
     "execution_count": 30,
     "metadata": {},
     "output_type": "execute_result"
    }
   ],
   "source": [
    "tmodeldef.fit(X_train_scaled, y_train_bina)"
   ]
  },
  {
   "cell_type": "code",
   "execution_count": 31,
   "id": "d23d95df",
   "metadata": {},
   "outputs": [],
   "source": [
    "# Training performance\n",
    "predictions_train = tmodeldef.predict(X_train_scaled)"
   ]
  },
  {
   "cell_type": "code",
   "execution_count": 35,
   "id": "0e38536b",
   "metadata": {},
   "outputs": [
    {
     "data": {
      "text/plain": [
       "OneVsRestClassifier(estimator=SVC(C=1.0, cache_size=200, class_weight=None,\n",
       "                                  coef0=0.0, decision_function_shape='ovr',\n",
       "                                  degree=3, gamma='auto_deprecated',\n",
       "                                  kernel='rbf', max_iter=-1, probability=False,\n",
       "                                  random_state=0, shrinking=True, tol=0.001,\n",
       "                                  verbose=True),\n",
       "                    n_jobs=7)"
      ]
     },
     "execution_count": 35,
     "metadata": {},
     "output_type": "execute_result"
    }
   ],
   "source": []
  },
  {
   "cell_type": "code",
   "execution_count": 36,
   "id": "93224ae9",
   "metadata": {},
   "outputs": [
    {
     "data": {
      "text/plain": [
       "[SVC(C=1.0, cache_size=200, class_weight=None, coef0=0.0,\n",
       "     decision_function_shape='ovr', degree=3, gamma='auto_deprecated',\n",
       "     kernel='rbf', max_iter=-1, probability=False, random_state=0,\n",
       "     shrinking=True, tol=0.001, verbose=True),\n",
       " SVC(C=1.0, cache_size=200, class_weight=None, coef0=0.0,\n",
       "     decision_function_shape='ovr', degree=3, gamma='auto_deprecated',\n",
       "     kernel='rbf', max_iter=-1, probability=False, random_state=0,\n",
       "     shrinking=True, tol=0.001, verbose=True),\n",
       " SVC(C=1.0, cache_size=200, class_weight=None, coef0=0.0,\n",
       "     decision_function_shape='ovr', degree=3, gamma='auto_deprecated',\n",
       "     kernel='rbf', max_iter=-1, probability=False, random_state=0,\n",
       "     shrinking=True, tol=0.001, verbose=True),\n",
       " SVC(C=1.0, cache_size=200, class_weight=None, coef0=0.0,\n",
       "     decision_function_shape='ovr', degree=3, gamma='auto_deprecated',\n",
       "     kernel='rbf', max_iter=-1, probability=False, random_state=0,\n",
       "     shrinking=True, tol=0.001, verbose=True),\n",
       " SVC(C=1.0, cache_size=200, class_weight=None, coef0=0.0,\n",
       "     decision_function_shape='ovr', degree=3, gamma='auto_deprecated',\n",
       "     kernel='rbf', max_iter=-1, probability=False, random_state=0,\n",
       "     shrinking=True, tol=0.001, verbose=True),\n",
       " SVC(C=1.0, cache_size=200, class_weight=None, coef0=0.0,\n",
       "     decision_function_shape='ovr', degree=3, gamma='auto_deprecated',\n",
       "     kernel='rbf', max_iter=-1, probability=False, random_state=0,\n",
       "     shrinking=True, tol=0.001, verbose=True),\n",
       " SVC(C=1.0, cache_size=200, class_weight=None, coef0=0.0,\n",
       "     decision_function_shape='ovr', degree=3, gamma='auto_deprecated',\n",
       "     kernel='rbf', max_iter=-1, probability=False, random_state=0,\n",
       "     shrinking=True, tol=0.001, verbose=True)]"
      ]
     },
     "execution_count": 36,
     "metadata": {},
     "output_type": "execute_result"
    }
   ],
   "source": [
    "tmodeldef.estimators_"
   ]
  },
  {
   "cell_type": "code",
   "execution_count": 37,
   "id": "7fad117d",
   "metadata": {},
   "outputs": [
    {
     "data": {
      "text/plain": [
       "array([0, 1, 2, 3, 4, 5, 6])"
      ]
     },
     "execution_count": 37,
     "metadata": {},
     "output_type": "execute_result"
    }
   ],
   "source": [
    "tmodeldef.classes_"
   ]
  },
  {
   "cell_type": "code",
   "execution_count": 40,
   "id": "95662bf8",
   "metadata": {},
   "outputs": [
    {
     "data": {
      "text/plain": [
       "array([0, 1, 2, 3, 4, 5, 6])"
      ]
     },
     "execution_count": 40,
     "metadata": {},
     "output_type": "execute_result"
    }
   ],
   "source": [
    "tmodeldef.label_binarizer_."
   ]
  },
  {
   "cell_type": "code",
   "execution_count": 59,
   "id": "c9e1bc0b",
   "metadata": {},
   "outputs": [
    {
     "data": {
      "text/plain": [
       "background     24073\n",
       "spam           12769\n",
       "nerisbotnet      475\n",
       "dos              334\n",
       "scan             141\n",
       "sshscan           21\n",
       "udpscan            8\n",
       "Name: outcome, dtype: int64"
      ]
     },
     "execution_count": 59,
     "metadata": {},
     "output_type": "execute_result"
    }
   ],
   "source": [
    "y_train.value_counts()"
   ]
  },
  {
   "cell_type": "code",
   "execution_count": 63,
   "id": "ee849702",
   "metadata": {},
   "outputs": [
    {
     "data": {
      "text/html": [
       "<div>\n",
       "<style scoped>\n",
       "    .dataframe tbody tr th:only-of-type {\n",
       "        vertical-align: middle;\n",
       "    }\n",
       "\n",
       "    .dataframe tbody tr th {\n",
       "        vertical-align: top;\n",
       "    }\n",
       "\n",
       "    .dataframe thead th {\n",
       "        text-align: right;\n",
       "    }\n",
       "</style>\n",
       "<table border=\"1\" class=\"dataframe\">\n",
       "  <thead>\n",
       "    <tr style=\"text-align: right;\">\n",
       "      <th></th>\n",
       "      <th>srcip_default</th>\n",
       "      <th>dstip_private</th>\n",
       "      <th>sport_quote</th>\n",
       "      <th>sport_ftp_control</th>\n",
       "      <th>sport_ssh</th>\n",
       "      <th>sport_telnet</th>\n",
       "      <th>sport_smtp</th>\n",
       "      <th>sport_dns</th>\n",
       "      <th>sport_bootp</th>\n",
       "      <th>sport_finger</th>\n",
       "      <th>...</th>\n",
       "      <th>protocol_igmp</th>\n",
       "      <th>protocol_other</th>\n",
       "      <th>tcpflags_RST</th>\n",
       "      <th>tcpflags_FIN</th>\n",
       "      <th>srctos_192</th>\n",
       "      <th>srctos_other</th>\n",
       "      <th>npackets_verylow</th>\n",
       "      <th>npackets_medium</th>\n",
       "      <th>npackets_veryhigh</th>\n",
       "      <th>nbytes_high</th>\n",
       "    </tr>\n",
       "  </thead>\n",
       "  <tbody>\n",
       "    <tr>\n",
       "      <td>0</td>\n",
       "      <td>0</td>\n",
       "      <td>1</td>\n",
       "      <td>0</td>\n",
       "      <td>26</td>\n",
       "      <td>5</td>\n",
       "      <td>1</td>\n",
       "      <td>460</td>\n",
       "      <td>7409</td>\n",
       "      <td>0</td>\n",
       "      <td>0</td>\n",
       "      <td>...</td>\n",
       "      <td>0</td>\n",
       "      <td>4</td>\n",
       "      <td>1792</td>\n",
       "      <td>11143</td>\n",
       "      <td>29</td>\n",
       "      <td>1628</td>\n",
       "      <td>17556</td>\n",
       "      <td>1731</td>\n",
       "      <td>22</td>\n",
       "      <td>1453</td>\n",
       "    </tr>\n",
       "    <tr>\n",
       "      <td>1</td>\n",
       "      <td>0</td>\n",
       "      <td>30</td>\n",
       "      <td>0</td>\n",
       "      <td>122</td>\n",
       "      <td>43</td>\n",
       "      <td>35</td>\n",
       "      <td>1047</td>\n",
       "      <td>14231</td>\n",
       "      <td>0</td>\n",
       "      <td>0</td>\n",
       "      <td>...</td>\n",
       "      <td>0</td>\n",
       "      <td>61</td>\n",
       "      <td>7982</td>\n",
       "      <td>40944</td>\n",
       "      <td>154</td>\n",
       "      <td>13956</td>\n",
       "      <td>52000</td>\n",
       "      <td>6046</td>\n",
       "      <td>183</td>\n",
       "      <td>5516</td>\n",
       "    </tr>\n",
       "    <tr>\n",
       "      <td>2</td>\n",
       "      <td>0</td>\n",
       "      <td>24</td>\n",
       "      <td>0</td>\n",
       "      <td>149</td>\n",
       "      <td>93</td>\n",
       "      <td>31</td>\n",
       "      <td>973</td>\n",
       "      <td>15167</td>\n",
       "      <td>0</td>\n",
       "      <td>0</td>\n",
       "      <td>...</td>\n",
       "      <td>0</td>\n",
       "      <td>69</td>\n",
       "      <td>9247</td>\n",
       "      <td>43114</td>\n",
       "      <td>163</td>\n",
       "      <td>17190</td>\n",
       "      <td>56926</td>\n",
       "      <td>7017</td>\n",
       "      <td>207</td>\n",
       "      <td>5926</td>\n",
       "    </tr>\n",
       "    <tr>\n",
       "      <td>3</td>\n",
       "      <td>0</td>\n",
       "      <td>29</td>\n",
       "      <td>0</td>\n",
       "      <td>87</td>\n",
       "      <td>101</td>\n",
       "      <td>36</td>\n",
       "      <td>961</td>\n",
       "      <td>14702</td>\n",
       "      <td>0</td>\n",
       "      <td>0</td>\n",
       "      <td>...</td>\n",
       "      <td>0</td>\n",
       "      <td>75</td>\n",
       "      <td>8613</td>\n",
       "      <td>43040</td>\n",
       "      <td>149</td>\n",
       "      <td>16243</td>\n",
       "      <td>54994</td>\n",
       "      <td>6585</td>\n",
       "      <td>198</td>\n",
       "      <td>5729</td>\n",
       "    </tr>\n",
       "    <tr>\n",
       "      <td>4</td>\n",
       "      <td>0</td>\n",
       "      <td>25</td>\n",
       "      <td>0</td>\n",
       "      <td>84</td>\n",
       "      <td>65</td>\n",
       "      <td>38</td>\n",
       "      <td>892</td>\n",
       "      <td>15148</td>\n",
       "      <td>0</td>\n",
       "      <td>0</td>\n",
       "      <td>...</td>\n",
       "      <td>0</td>\n",
       "      <td>68</td>\n",
       "      <td>9037</td>\n",
       "      <td>42280</td>\n",
       "      <td>133</td>\n",
       "      <td>21533</td>\n",
       "      <td>60244</td>\n",
       "      <td>5947</td>\n",
       "      <td>206</td>\n",
       "      <td>5344</td>\n",
       "    </tr>\n",
       "    <tr>\n",
       "      <td>...</td>\n",
       "      <td>...</td>\n",
       "      <td>...</td>\n",
       "      <td>...</td>\n",
       "      <td>...</td>\n",
       "      <td>...</td>\n",
       "      <td>...</td>\n",
       "      <td>...</td>\n",
       "      <td>...</td>\n",
       "      <td>...</td>\n",
       "      <td>...</td>\n",
       "      <td>...</td>\n",
       "      <td>...</td>\n",
       "      <td>...</td>\n",
       "      <td>...</td>\n",
       "      <td>...</td>\n",
       "      <td>...</td>\n",
       "      <td>...</td>\n",
       "      <td>...</td>\n",
       "      <td>...</td>\n",
       "      <td>...</td>\n",
       "      <td>...</td>\n",
       "    </tr>\n",
       "    <tr>\n",
       "      <td>47270</td>\n",
       "      <td>0</td>\n",
       "      <td>25</td>\n",
       "      <td>0</td>\n",
       "      <td>332</td>\n",
       "      <td>88</td>\n",
       "      <td>48</td>\n",
       "      <td>417</td>\n",
       "      <td>10084</td>\n",
       "      <td>0</td>\n",
       "      <td>0</td>\n",
       "      <td>...</td>\n",
       "      <td>0</td>\n",
       "      <td>112</td>\n",
       "      <td>7138</td>\n",
       "      <td>36343</td>\n",
       "      <td>186</td>\n",
       "      <td>13091</td>\n",
       "      <td>49971</td>\n",
       "      <td>4737</td>\n",
       "      <td>153</td>\n",
       "      <td>3841</td>\n",
       "    </tr>\n",
       "    <tr>\n",
       "      <td>47271</td>\n",
       "      <td>0</td>\n",
       "      <td>27</td>\n",
       "      <td>0</td>\n",
       "      <td>357</td>\n",
       "      <td>119</td>\n",
       "      <td>37</td>\n",
       "      <td>367</td>\n",
       "      <td>9838</td>\n",
       "      <td>0</td>\n",
       "      <td>0</td>\n",
       "      <td>...</td>\n",
       "      <td>0</td>\n",
       "      <td>100</td>\n",
       "      <td>7254</td>\n",
       "      <td>34508</td>\n",
       "      <td>200</td>\n",
       "      <td>13245</td>\n",
       "      <td>49816</td>\n",
       "      <td>5263</td>\n",
       "      <td>130</td>\n",
       "      <td>4505</td>\n",
       "    </tr>\n",
       "    <tr>\n",
       "      <td>47272</td>\n",
       "      <td>0</td>\n",
       "      <td>29</td>\n",
       "      <td>0</td>\n",
       "      <td>374</td>\n",
       "      <td>98</td>\n",
       "      <td>39</td>\n",
       "      <td>636</td>\n",
       "      <td>9715</td>\n",
       "      <td>0</td>\n",
       "      <td>0</td>\n",
       "      <td>...</td>\n",
       "      <td>0</td>\n",
       "      <td>115</td>\n",
       "      <td>7816</td>\n",
       "      <td>35799</td>\n",
       "      <td>165</td>\n",
       "      <td>13872</td>\n",
       "      <td>51005</td>\n",
       "      <td>5087</td>\n",
       "      <td>149</td>\n",
       "      <td>4176</td>\n",
       "    </tr>\n",
       "    <tr>\n",
       "      <td>47273</td>\n",
       "      <td>0</td>\n",
       "      <td>29</td>\n",
       "      <td>0</td>\n",
       "      <td>345</td>\n",
       "      <td>93</td>\n",
       "      <td>55</td>\n",
       "      <td>639</td>\n",
       "      <td>9233</td>\n",
       "      <td>0</td>\n",
       "      <td>0</td>\n",
       "      <td>...</td>\n",
       "      <td>0</td>\n",
       "      <td>126</td>\n",
       "      <td>7102</td>\n",
       "      <td>35226</td>\n",
       "      <td>156</td>\n",
       "      <td>13452</td>\n",
       "      <td>48327</td>\n",
       "      <td>4754</td>\n",
       "      <td>195</td>\n",
       "      <td>3945</td>\n",
       "    </tr>\n",
       "    <tr>\n",
       "      <td>47274</td>\n",
       "      <td>0</td>\n",
       "      <td>22</td>\n",
       "      <td>0</td>\n",
       "      <td>248</td>\n",
       "      <td>82</td>\n",
       "      <td>26</td>\n",
       "      <td>365</td>\n",
       "      <td>6511</td>\n",
       "      <td>0</td>\n",
       "      <td>0</td>\n",
       "      <td>...</td>\n",
       "      <td>0</td>\n",
       "      <td>105</td>\n",
       "      <td>5199</td>\n",
       "      <td>25845</td>\n",
       "      <td>113</td>\n",
       "      <td>9155</td>\n",
       "      <td>34068</td>\n",
       "      <td>3364</td>\n",
       "      <td>101</td>\n",
       "      <td>2703</td>\n",
       "    </tr>\n",
       "  </tbody>\n",
       "</table>\n",
       "<p>37821 rows × 82 columns</p>\n",
       "</div>"
      ],
      "text/plain": [
       "       srcip_default  dstip_private  sport_quote  sport_ftp_control  \\\n",
       "0                  0              1            0                 26   \n",
       "1                  0             30            0                122   \n",
       "2                  0             24            0                149   \n",
       "3                  0             29            0                 87   \n",
       "4                  0             25            0                 84   \n",
       "...              ...            ...          ...                ...   \n",
       "47270              0             25            0                332   \n",
       "47271              0             27            0                357   \n",
       "47272              0             29            0                374   \n",
       "47273              0             29            0                345   \n",
       "47274              0             22            0                248   \n",
       "\n",
       "       sport_ssh  sport_telnet  sport_smtp  sport_dns  sport_bootp  \\\n",
       "0              5             1         460       7409            0   \n",
       "1             43            35        1047      14231            0   \n",
       "2             93            31         973      15167            0   \n",
       "3            101            36         961      14702            0   \n",
       "4             65            38         892      15148            0   \n",
       "...          ...           ...         ...        ...          ...   \n",
       "47270         88            48         417      10084            0   \n",
       "47271        119            37         367       9838            0   \n",
       "47272         98            39         636       9715            0   \n",
       "47273         93            55         639       9233            0   \n",
       "47274         82            26         365       6511            0   \n",
       "\n",
       "       sport_finger  ...  protocol_igmp  protocol_other  tcpflags_RST  \\\n",
       "0                 0  ...              0               4          1792   \n",
       "1                 0  ...              0              61          7982   \n",
       "2                 0  ...              0              69          9247   \n",
       "3                 0  ...              0              75          8613   \n",
       "4                 0  ...              0              68          9037   \n",
       "...             ...  ...            ...             ...           ...   \n",
       "47270             0  ...              0             112          7138   \n",
       "47271             0  ...              0             100          7254   \n",
       "47272             0  ...              0             115          7816   \n",
       "47273             0  ...              0             126          7102   \n",
       "47274             0  ...              0             105          5199   \n",
       "\n",
       "       tcpflags_FIN  srctos_192  srctos_other  npackets_verylow  \\\n",
       "0             11143          29          1628             17556   \n",
       "1             40944         154         13956             52000   \n",
       "2             43114         163         17190             56926   \n",
       "3             43040         149         16243             54994   \n",
       "4             42280         133         21533             60244   \n",
       "...             ...         ...           ...               ...   \n",
       "47270         36343         186         13091             49971   \n",
       "47271         34508         200         13245             49816   \n",
       "47272         35799         165         13872             51005   \n",
       "47273         35226         156         13452             48327   \n",
       "47274         25845         113          9155             34068   \n",
       "\n",
       "       npackets_medium  npackets_veryhigh  nbytes_high  \n",
       "0                 1731                 22         1453  \n",
       "1                 6046                183         5516  \n",
       "2                 7017                207         5926  \n",
       "3                 6585                198         5729  \n",
       "4                 5947                206         5344  \n",
       "...                ...                ...          ...  \n",
       "47270             4737                153         3841  \n",
       "47271             5263                130         4505  \n",
       "47272             5087                149         4176  \n",
       "47273             4754                195         3945  \n",
       "47274             3364                101         2703  \n",
       "\n",
       "[37821 rows x 82 columns]"
      ]
     },
     "execution_count": 63,
     "metadata": {},
     "output_type": "execute_result"
    }
   ],
   "source": [
    "X_train"
   ]
  },
  {
   "cell_type": "code",
   "execution_count": null,
   "id": "67c39f6c",
   "metadata": {},
   "outputs": [],
   "source": []
  }
 ],
 "metadata": {
  "kernelspec": {
   "display_name": "attackclass",
   "language": "python",
   "name": "attackclass"
  },
  "language_info": {
   "codemirror_mode": {
    "name": "ipython",
    "version": 3
   },
   "file_extension": ".py",
   "mimetype": "text/x-python",
   "name": "python",
   "nbconvert_exporter": "python",
   "pygments_lexer": "ipython3",
   "version": "3.8.8"
  }
 },
 "nbformat": 4,
 "nbformat_minor": 5
}
